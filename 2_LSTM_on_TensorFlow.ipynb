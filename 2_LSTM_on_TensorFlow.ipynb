{
  "nbformat": 4,
  "nbformat_minor": 0,
  "metadata": {
    "colab": {
      "name": "Copy of 3.LSTM on TensorFlow.ipynb",
      "provenance": [],
      "collapsed_sections": [],
      "include_colab_link": true
    },
    "kernelspec": {
      "name": "python3",
      "display_name": "Python 3"
    }
  },
  "cells": [
    {
      "cell_type": "markdown",
      "metadata": {
        "id": "view-in-github",
        "colab_type": "text"
      },
      "source": [
        "<a href=\"https://colab.research.google.com/github/stemgene/Predict-Stock-Price-by-LSTM-and-Twitter-Analysis-/blob/master/2_LSTM_on_TensorFlow.ipynb\" target=\"_parent\"><img src=\"https://colab.research.google.com/assets/colab-badge.svg\" alt=\"Open In Colab\"/></a>"
      ]
    },
    {
      "cell_type": "code",
      "metadata": {
        "id": "ZB3vLhZNw0x8",
        "colab_type": "code",
        "outputId": "983afbfe-8737-4959-e23c-2ae9d4882934",
        "colab": {
          "base_uri": "https://localhost:8080/",
          "height": 34
        }
      },
      "source": [
        "import numpy as np\n",
        "from numpy import genfromtxt\n",
        "import pandas as pd\n",
        "import math\n",
        "import sklearn\n",
        "import sklearn.preprocessing\n",
        "import datetime\n",
        "import os\n",
        "import matplotlib.pyplot as plt\n",
        "import csv\n",
        "import time\n",
        "import statistics\n",
        "\n",
        "from keras.models import Sequential\n",
        "from keras.layers.core import Dense, Dropout, Activation, Flatten\n",
        "from keras.layers.recurrent import LSTM\n",
        "from keras.models import load_model\n",
        "import keras\n",
        "\n",
        "import tensorflow as tf\n",
        "\n",
        "from google.colab import drive\n",
        "drive.mount('/content/drive')"
      ],
      "execution_count": 0,
      "outputs": [
        {
          "output_type": "stream",
          "text": [
            "Drive already mounted at /content/drive; to attempt to forcibly remount, call drive.mount(\"/content/drive\", force_remount=True).\n"
          ],
          "name": "stdout"
        }
      ]
    },
    {
      "cell_type": "code",
      "metadata": {
        "id": "epOrQtwKP1jc",
        "colab_type": "code",
        "outputId": "1c402292-4ee2-4da0-bb3c-ae052ad7542c",
        "colab": {
          "base_uri": "https://localhost:8080/",
          "height": 340
        }
      },
      "source": [
        "stocks = pd.read_csv(\"/content/drive/My Drive/UR/DSC440_Data_Mining/Project/Data/SP500_cleaned.csv\", parse_dates=['Date']).set_index('Date')\n",
        "df = stocks.copy()\n",
        "df.tail()"
      ],
      "execution_count": 0,
      "outputs": [
        {
          "output_type": "execute_result",
          "data": {
            "text/html": [
              "<div>\n",
              "<style scoped>\n",
              "    .dataframe tbody tr th:only-of-type {\n",
              "        vertical-align: middle;\n",
              "    }\n",
              "\n",
              "    .dataframe tbody tr th {\n",
              "        vertical-align: top;\n",
              "    }\n",
              "\n",
              "    .dataframe thead th {\n",
              "        text-align: right;\n",
              "    }\n",
              "</style>\n",
              "<table border=\"1\" class=\"dataframe\">\n",
              "  <thead>\n",
              "    <tr style=\"text-align: right;\">\n",
              "      <th></th>\n",
              "      <th>price</th>\n",
              "      <th>Volume</th>\n",
              "      <th>ma7</th>\n",
              "      <th>ma21</th>\n",
              "      <th>26ema</th>\n",
              "      <th>12ema</th>\n",
              "      <th>MACD</th>\n",
              "      <th>20sd</th>\n",
              "      <th>upper_band</th>\n",
              "      <th>lower_band</th>\n",
              "      <th>ema</th>\n",
              "      <th>momentum</th>\n",
              "      <th>FFT 3</th>\n",
              "      <th>FFT 6</th>\n",
              "      <th>FFT 9</th>\n",
              "      <th>ARIMA</th>\n",
              "    </tr>\n",
              "    <tr>\n",
              "      <th>Date</th>\n",
              "      <th></th>\n",
              "      <th></th>\n",
              "      <th></th>\n",
              "      <th></th>\n",
              "      <th></th>\n",
              "      <th></th>\n",
              "      <th></th>\n",
              "      <th></th>\n",
              "      <th></th>\n",
              "      <th></th>\n",
              "      <th></th>\n",
              "      <th></th>\n",
              "      <th></th>\n",
              "      <th></th>\n",
              "      <th></th>\n",
              "      <th></th>\n",
              "    </tr>\n",
              "  </thead>\n",
              "  <tbody>\n",
              "    <tr>\n",
              "      <th>2019-10-25</th>\n",
              "      <td>3022.550049</td>\n",
              "      <td>3370370000</td>\n",
              "      <td>3003.459996</td>\n",
              "      <td>2964.972366</td>\n",
              "      <td>2976.603905</td>\n",
              "      <td>2991.896296</td>\n",
              "      <td>15.292391</td>\n",
              "      <td>40.567569</td>\n",
              "      <td>3046.107504</td>\n",
              "      <td>2883.837227</td>\n",
              "      <td>3017.565963</td>\n",
              "      <td>3021.550049</td>\n",
              "      <td>2641.9246</td>\n",
              "      <td>2640.4658</td>\n",
              "      <td>2651.7810</td>\n",
              "      <td>3010.628819</td>\n",
              "    </tr>\n",
              "    <tr>\n",
              "      <th>2019-10-28</th>\n",
              "      <td>3039.419922</td>\n",
              "      <td>3521230000</td>\n",
              "      <td>3009.384277</td>\n",
              "      <td>2968.669027</td>\n",
              "      <td>2981.256943</td>\n",
              "      <td>2999.207623</td>\n",
              "      <td>17.950680</td>\n",
              "      <td>43.803630</td>\n",
              "      <td>3056.276286</td>\n",
              "      <td>2881.061767</td>\n",
              "      <td>3032.135269</td>\n",
              "      <td>3038.419922</td>\n",
              "      <td>2636.6978</td>\n",
              "      <td>2629.2861</td>\n",
              "      <td>2634.3406</td>\n",
              "      <td>3022.869399</td>\n",
              "    </tr>\n",
              "    <tr>\n",
              "      <th>2019-10-29</th>\n",
              "      <td>3036.889893</td>\n",
              "      <td>3589930000</td>\n",
              "      <td>3016.625698</td>\n",
              "      <td>2971.533308</td>\n",
              "      <td>2985.377903</td>\n",
              "      <td>3005.004896</td>\n",
              "      <td>19.626993</td>\n",
              "      <td>45.833728</td>\n",
              "      <td>3063.200764</td>\n",
              "      <td>2879.865852</td>\n",
              "      <td>3035.305018</td>\n",
              "      <td>3035.889893</td>\n",
              "      <td>2631.4626</td>\n",
              "      <td>2618.0781</td>\n",
              "      <td>2616.8286</td>\n",
              "      <td>3040.367206</td>\n",
              "    </tr>\n",
              "    <tr>\n",
              "      <th>2019-10-30</th>\n",
              "      <td>3046.770020</td>\n",
              "      <td>3776030000</td>\n",
              "      <td>3022.347133</td>\n",
              "      <td>2976.605690</td>\n",
              "      <td>2989.925467</td>\n",
              "      <td>3011.430299</td>\n",
              "      <td>21.504832</td>\n",
              "      <td>43.989737</td>\n",
              "      <td>3064.585163</td>\n",
              "      <td>2888.626216</td>\n",
              "      <td>3042.948353</td>\n",
              "      <td>3045.770020</td>\n",
              "      <td>2626.2207</td>\n",
              "      <td>2606.8523</td>\n",
              "      <td>2599.2793</td>\n",
              "      <td>3037.673830</td>\n",
              "    </tr>\n",
              "    <tr>\n",
              "      <th>2019-10-31</th>\n",
              "      <td>3037.560059</td>\n",
              "      <td>4139280000</td>\n",
              "      <td>3028.285715</td>\n",
              "      <td>2983.746164</td>\n",
              "      <td>2993.453955</td>\n",
              "      <td>3015.450262</td>\n",
              "      <td>21.996307</td>\n",
              "      <td>42.422861</td>\n",
              "      <td>3068.591886</td>\n",
              "      <td>2898.900441</td>\n",
              "      <td>3039.356157</td>\n",
              "      <td>3036.560059</td>\n",
              "      <td>2620.9734</td>\n",
              "      <td>2595.6196</td>\n",
              "      <td>2581.7270</td>\n",
              "      <td>3048.296251</td>\n",
              "    </tr>\n",
              "  </tbody>\n",
              "</table>\n",
              "</div>"
            ],
            "text/plain": [
              "                  price      Volume  ...      FFT 9        ARIMA\n",
              "Date                                 ...                        \n",
              "2019-10-25  3022.550049  3370370000  ...  2651.7810  3010.628819\n",
              "2019-10-28  3039.419922  3521230000  ...  2634.3406  3022.869399\n",
              "2019-10-29  3036.889893  3589930000  ...  2616.8286  3040.367206\n",
              "2019-10-30  3046.770020  3776030000  ...  2599.2793  3037.673830\n",
              "2019-10-31  3037.560059  4139280000  ...  2581.7270  3048.296251\n",
              "\n",
              "[5 rows x 16 columns]"
            ]
          },
          "metadata": {
            "tags": []
          },
          "execution_count": 59
        }
      ]
    },
    {
      "cell_type": "code",
      "metadata": {
        "colab_type": "code",
        "outputId": "bf68a9ef-b6ef-413c-e6ab-1f021f9163c6",
        "id": "rT_Vz4SL_AmU",
        "colab": {
          "base_uri": "https://localhost:8080/",
          "height": 119
        }
      },
      "source": [
        "from numpy import genfromtxt\n",
        "X_train = genfromtxt('/content/drive/My Drive/UR/DSC440_Data_Mining/Project/Data/trained/X_train_522_5_39.csv', delimiter=',').reshape(522,5,39)\n",
        "X_val = genfromtxt('/content/drive/My Drive/UR/DSC440_Data_Mining/Project/Data/trained/X_val_115_5_39.csv', delimiter=',').reshape(115,5,39)\n",
        "X_test = genfromtxt('/content/drive/My Drive/UR/DSC440_Data_Mining/Project/Data/trained/X_test_113_5_39.csv', delimiter=',').reshape(113,5,39)\n",
        "y_train = genfromtxt('/content/drive/My Drive/UR/DSC440_Data_Mining/Project/Data/trained/y_train.csv', delimiter=',').reshape(-1,1)\n",
        "y_val = genfromtxt('/content/drive/My Drive/UR/DSC440_Data_Mining/Project/Data/trained/y_val.csv', delimiter=',').reshape(-1,1)\n",
        "y_test = genfromtxt('/content/drive/My Drive/UR/DSC440_Data_Mining/Project/Data/trained/y_test.csv', delimiter=',').reshape(-1,1)\n",
        "label_level_matrix = genfromtxt('/content/drive/My Drive/UR/DSC440_Data_Mining/Project/Data/trained/label_level_matrix.csv', delimiter=',')\n",
        "print(\"X_train's shape:\", X_train.shape)\n",
        "print(\"y_train's shape:\", y_train.shape)\n",
        "print(\"X_val's shape:\", X_val.shape)\n",
        "print(\"y_val's shape:\", y_val.shape)\n",
        "print(\"X_test's shape:\", X_test.shape)\n",
        "print(\"y_test's shape:\", y_test.shape)"
      ],
      "execution_count": 0,
      "outputs": [
        {
          "output_type": "stream",
          "text": [
            "X_train's shape: (522, 5, 39)\n",
            "y_train's shape: (522, 1)\n",
            "X_val's shape: (115, 5, 39)\n",
            "y_val's shape: (115, 1)\n",
            "X_test's shape: (113, 5, 39)\n",
            "y_test's shape: (113, 1)\n"
          ],
          "name": "stdout"
        }
      ]
    },
    {
      "cell_type": "code",
      "metadata": {
        "id": "yuu7YSZ2wu3P",
        "colab_type": "code",
        "outputId": "b0c50ffa-859a-4d57-b9ce-121ecec8c460",
        "colab": {
          "base_uri": "https://localhost:8080/",
          "height": 544
        }
      },
      "source": [
        "# Basic Cell RNN in tensorflow\n",
        "\n",
        "index_in_epoch = 0\n",
        "perm_array = np.arange(X_train.shape[0])\n",
        "np.random.shuffle(perm_array)\n",
        "\n",
        "# function to get the next batch\n",
        "def get_next_batch(batch_size):\n",
        "  global index_in_epoch, X_train, perm_array\n",
        "  start = index_in_epoch\n",
        "  index_in_epoch += batch_size\n",
        "\n",
        "  if index_in_epoch > X_train.shape[0]:\n",
        "    np.random.shuffle(perm_array) # shuffle permutation array\n",
        "    start = 0 # start nex epoch\n",
        "    index_in_epoch = batch_size\n",
        "  \n",
        "  end = index_in_epoch\n",
        "  return X_train[perm_array[start:end]], y_train[perm_array[start:end]]\n",
        "\n",
        "#parameters\n",
        "seq_len = 5  # choose sequence length\n",
        "n_steps = seq_len #- 1\n",
        "n_inputs = 39\n",
        "n_neurons= 300\n",
        "n_outputs = 1\n",
        "n_layers = 2\n",
        "learning_rate = 0.003\n",
        "batch_size = 50\n",
        "n_epochs = 150\n",
        "train_set_size = X_train.shape[0]\n",
        "test_set_size = X_test.shape[0]\n",
        "\n",
        "# setup TensorFlow\n",
        "tf.reset_default_graph()\n",
        "\n",
        "X = tf.placeholder(tf.float32, [None, n_steps, n_inputs])\n",
        "y = tf.placeholder(tf.float32, [None, n_outputs])\n",
        "\n",
        "# use basic RNN Cell\n",
        "#layers = [tf.contrib.rnn.BasicRNNCell(num_units=n_neurons, activation=tf.nn.elu) for layer in range(n_layers)]\n",
        "\n",
        "# use Basic LSTM Cell \n",
        "#layers = [tf.contrib.rnn.BasicLSTMCell(num_units=n_neurons, activation=tf.nn.elu) for layer in range(n_layers)]\n",
        "\n",
        "# use LSTM Cell with peephole connections\n",
        "#layers = [tf.contrib.rnn.LSTMCell(num_units=n_neurons, activation=tf.nn.leaky_relu, use_peepholes = True) for layer in range(n_layers)]\n",
        "\n",
        "# use GRU cell\n",
        "layers = [tf.contrib.rnn.GRUCell(num_units=n_neurons, activation=tf.nn.leaky_relu) for layer in range(n_layers)]\n",
        "\n",
        "multi_layer_cell = tf.contrib.rnn.MultiRNNCell(layers)\n",
        "rnn_outputs, states = tf.nn.dynamic_rnn(multi_layer_cell, X, dtype=tf.float32)\n",
        "\n",
        "stacked_rnn_outputs = tf.reshape(rnn_outputs, [-1, n_neurons])\n",
        "stacked_outputs = tf.layers.dense(stacked_rnn_outputs, n_outputs)\n",
        "outputs = tf.reshape(stacked_outputs, [-1, n_steps, n_outputs])\n",
        "outputs = outputs[:, n_steps-1, :] # keep only last output of sequence\n",
        "\n",
        "loss = tf.reduce_mean(tf.square(outputs - y)) # loss function = mean squared error\n",
        "optimizer = tf.train.AdamOptimizer(learning_rate=learning_rate)\n",
        "training_op = optimizer.minimize(loss)\n",
        "\n",
        "# run graph\n",
        "with tf.Session() as sess:\n",
        "  sess.run(tf.global_variables_initializer())\n",
        "  for iteration in range(int(n_epochs*train_set_size/batch_size)):\n",
        "    x_batch, y_batch = get_next_batch(batch_size) # fetch the next training batch\n",
        "    #print(\"y_batch is {}\".format(y_batch.shape))\n",
        "    sess.run(training_op, feed_dict={X: x_batch, y: y_batch})\n",
        "    if iteration % int(5*train_set_size/batch_size) == 0:\n",
        "      mse_train = loss.eval(feed_dict={X: X_train, y:y_train})\n",
        "      mse_valid = loss.eval(feed_dict={X: X_val, y:y_val})\n",
        "      print('%.2f epochs: MSE train/valid = %.6f/%.6f'%(iteration*batch_size/train_set_size, mse_train, mse_valid))\n",
        "  \n",
        "  y_train_pred = sess.run(outputs, feed_dict={X: X_train})\n",
        "  y_valid_pred = sess.run(outputs, feed_dict={X: X_val})\n",
        "  y_test_pred = sess.run(outputs, feed_dict={X: X_test})\n"
      ],
      "execution_count": 0,
      "outputs": [
        {
          "output_type": "stream",
          "text": [
            "0.00 epochs: MSE train/valid = 0.070732/0.072186\n",
            "4.98 epochs: MSE train/valid = 0.001115/0.003284\n",
            "9.96 epochs: MSE train/valid = 0.000927/0.002739\n",
            "14.94 epochs: MSE train/valid = 0.001158/0.002890\n",
            "19.92 epochs: MSE train/valid = 0.000708/0.002259\n",
            "24.90 epochs: MSE train/valid = 0.000754/0.002329\n",
            "29.89 epochs: MSE train/valid = 0.000643/0.002115\n",
            "34.87 epochs: MSE train/valid = 0.000466/0.001745\n",
            "39.85 epochs: MSE train/valid = 0.000419/0.001664\n",
            "44.83 epochs: MSE train/valid = 0.000374/0.001761\n",
            "49.81 epochs: MSE train/valid = 0.000466/0.001992\n",
            "54.79 epochs: MSE train/valid = 0.000287/0.001546\n",
            "59.77 epochs: MSE train/valid = 0.000284/0.001439\n",
            "64.75 epochs: MSE train/valid = 0.000322/0.001514\n",
            "69.73 epochs: MSE train/valid = 0.000237/0.001449\n",
            "74.71 epochs: MSE train/valid = 0.000441/0.001982\n",
            "79.69 epochs: MSE train/valid = 0.000310/0.001565\n",
            "84.67 epochs: MSE train/valid = 0.000276/0.001631\n",
            "89.66 epochs: MSE train/valid = 0.000243/0.001349\n",
            "94.64 epochs: MSE train/valid = 0.000266/0.001524\n",
            "99.62 epochs: MSE train/valid = 0.000134/0.001256\n",
            "104.60 epochs: MSE train/valid = 0.000226/0.001570\n",
            "109.58 epochs: MSE train/valid = 0.000371/0.001449\n",
            "114.56 epochs: MSE train/valid = 0.000100/0.001384\n",
            "119.54 epochs: MSE train/valid = 0.000175/0.001443\n",
            "124.52 epochs: MSE train/valid = 0.000134/0.001370\n",
            "129.50 epochs: MSE train/valid = 0.000072/0.001327\n",
            "134.48 epochs: MSE train/valid = 0.000174/0.001707\n",
            "139.46 epochs: MSE train/valid = 0.000122/0.001388\n",
            "144.44 epochs: MSE train/valid = 0.000093/0.001493\n",
            "149.43 epochs: MSE train/valid = 0.000247/0.001556\n"
          ],
          "name": "stdout"
        }
      ]
    },
    {
      "cell_type": "markdown",
      "metadata": {
        "id": "2sjZ6iB9Z2F1",
        "colab_type": "text"
      },
      "source": [
        "#### Evaluate the model"
      ]
    },
    {
      "cell_type": "code",
      "metadata": {
        "id": "__aK6As8WDcu",
        "colab_type": "code",
        "colab": {}
      },
      "source": [
        "from sklearn.preprocessing import MinMaxScaler \n",
        "def denormalize(df_ori, normalized_value):\n",
        "  ori_reshaped = df_ori.reshape(-1,1)\n",
        "  normalized_value = normalized_value.reshape(-1, 1)\n",
        "\n",
        "  scaler = MinMaxScaler(feature_range=(0, 1))\n",
        "  scaler = scaler.fit(ori_reshaped)\n",
        "  denormed = scaler.inverse_transform(normalized_value)\n",
        "  return denormed.reshape(-1)\n",
        "\n",
        "pred_normed = np.concatenate((y_train_pred, y_valid_pred, y_test_pred), axis=None)\n",
        "pred_denorm = denormalize(label_level_matrix, pred_normed)"
      ],
      "execution_count": 0,
      "outputs": []
    },
    {
      "cell_type": "code",
      "metadata": {
        "id": "uPMJrWv1sM9Q",
        "colab_type": "code",
        "colab": {}
      },
      "source": [
        "true_price_train = df.price[seq_len:seq_len+y_train.shape[0]]\n",
        "true_price_valid = df.price[seq_len+y_train.shape[0]:seq_len+y_train.shape[0]+y_val.shape[0]]\n",
        "true_price_test = df.price[seq_len+y_train.shape[0]+y_val.shape[0]:seq_len+y_train.shape[0]+y_val.shape[0]+y_test.shape[0]]\n",
        "\n",
        "pred_price_train = pred_denorm[:y_train.shape[0]]\n",
        "pred_price_valid = pred_denorm[y_train.shape[0]:y_train.shape[0]+y_val.shape[0]]\n",
        "pred_price_test = pred_denorm[y_train.shape[0]+y_val.shape[0]:y_train.shape[0]+y_val.shape[0]+y_test.shape[0]]"
      ],
      "execution_count": 0,
      "outputs": []
    },
    {
      "cell_type": "markdown",
      "metadata": {
        "id": "JGIU-iWaBoXS",
        "colab_type": "text"
      },
      "source": [
        "Calculate RMSE"
      ]
    },
    {
      "cell_type": "code",
      "metadata": {
        "id": "t97zw80DLaK6",
        "colab_type": "code",
        "outputId": "bd593dc1-b9a7-49a3-f8b4-cb63dc927e00",
        "colab": {
          "base_uri": "https://localhost:8080/",
          "height": 68
        }
      },
      "source": [
        "from sklearn.metrics import mean_squared_error\n",
        "from math import sqrt\n",
        "# use true price to calculate root mean squared error\n",
        "trainScore = math.sqrt(mean_squared_error(true_price_train, pred_price_train))\n",
        "print('Train Score: %.2f RMSE' % (trainScore))\n",
        "validScore = math.sqrt(mean_squared_error(true_price_valid, pred_price_valid))\n",
        "print('Train Score: %.2f RMSE' % (validScore))\n",
        "testScore = math.sqrt(mean_squared_error(true_price_test, pred_price_test))\n",
        "print('Test Score: %.2f RMSE' % (testScore))"
      ],
      "execution_count": 0,
      "outputs": [
        {
          "output_type": "stream",
          "text": [
            "Train Score: 10.37 RMSE\n",
            "Train Score: 36.83 RMSE\n",
            "Test Score: 41.79 RMSE\n"
          ],
          "name": "stdout"
        }
      ]
    },
    {
      "cell_type": "code",
      "metadata": {
        "id": "dpkNIDhL4g7u",
        "colab_type": "code",
        "outputId": "644bdc15-536a-4846-f0c6-8368b18977f5",
        "colab": {
          "base_uri": "https://localhost:8080/",
          "height": 204
        }
      },
      "source": [
        "window=5\n",
        "true_list = df.loc[:,'price'][window:].to_list()\n",
        "pred_list = pred_denorm.tolist()\n",
        "evaluate_df = pd.DataFrame({\"true\": true_list, \"predicted value\":pred_list})\n",
        "evaluate_df.head()"
      ],
      "execution_count": 0,
      "outputs": [
        {
          "output_type": "execute_result",
          "data": {
            "text/html": [
              "<div>\n",
              "<style scoped>\n",
              "    .dataframe tbody tr th:only-of-type {\n",
              "        vertical-align: middle;\n",
              "    }\n",
              "\n",
              "    .dataframe tbody tr th {\n",
              "        vertical-align: top;\n",
              "    }\n",
              "\n",
              "    .dataframe thead th {\n",
              "        text-align: right;\n",
              "    }\n",
              "</style>\n",
              "<table border=\"1\" class=\"dataframe\">\n",
              "  <thead>\n",
              "    <tr style=\"text-align: right;\">\n",
              "      <th></th>\n",
              "      <th>true</th>\n",
              "      <th>pred</th>\n",
              "    </tr>\n",
              "  </thead>\n",
              "  <tbody>\n",
              "    <tr>\n",
              "      <th>0</th>\n",
              "      <td>2139.560059</td>\n",
              "      <td>2120.927979</td>\n",
              "    </tr>\n",
              "    <tr>\n",
              "      <th>1</th>\n",
              "      <td>2163.260010</td>\n",
              "      <td>2141.988037</td>\n",
              "    </tr>\n",
              "    <tr>\n",
              "      <th>2</th>\n",
              "      <td>2167.479980</td>\n",
              "      <td>2144.670654</td>\n",
              "    </tr>\n",
              "    <tr>\n",
              "      <th>3</th>\n",
              "      <td>2164.449951</td>\n",
              "      <td>2144.623047</td>\n",
              "    </tr>\n",
              "    <tr>\n",
              "      <th>4</th>\n",
              "      <td>2164.199951</td>\n",
              "      <td>2151.718018</td>\n",
              "    </tr>\n",
              "  </tbody>\n",
              "</table>\n",
              "</div>"
            ],
            "text/plain": [
              "          true         pred\n",
              "0  2139.560059  2120.927979\n",
              "1  2163.260010  2141.988037\n",
              "2  2167.479980  2144.670654\n",
              "3  2164.449951  2144.623047\n",
              "4  2164.199951  2151.718018"
            ]
          },
          "metadata": {
            "tags": []
          },
          "execution_count": 192
        }
      ]
    },
    {
      "cell_type": "code",
      "metadata": {
        "id": "3FNKcFc-5GCR",
        "colab_type": "code",
        "colab": {}
      },
      "source": [
        "evaluate_df.to_csv('evaluate_group5tfg.csv')\n",
        "!cp evaluate_group5tfg.csv /content/drive/My\\ Drive/UR/DSC440_Data_Mining/Project/Data/trained/evaluate_group5tfg.csv"
      ],
      "execution_count": 0,
      "outputs": []
    },
    {
      "cell_type": "code",
      "metadata": {
        "id": "Py5rLGM_OUs6",
        "colab_type": "code",
        "outputId": "85360042-f64f-4328-ab3d-b64feb67534e",
        "colab": {
          "base_uri": "https://localhost:8080/",
          "height": 54
        }
      },
      "source": [
        "print(pred_price_test.tolist())"
      ],
      "execution_count": 0,
      "outputs": [
        {
          "output_type": "stream",
          "text": [
            "[2833.55517578125, 2814.157958984375, 2819.954833984375, 2801.4052734375, 2794.07568359375, 2805.8515625, 2831.892822265625, 2864.668701171875, 2888.0908203125, 2889.91015625, 2889.98583984375, 2898.797607421875, 2902.38232421875, 2898.197265625, 2903.525146484375, 2909.684326171875, 2914.206298828125, 2928.060302734375, 2927.3779296875, 2928.61376953125, 2927.94580078125, 2920.69140625, 2927.058349609375, 2922.19921875, 2942.74267578125, 2959.3828125, 2969.229736328125, 2970.568115234375, 2959.098388671875, 2950.65380859375, 2949.637451171875, 2977.942626953125, 2988.41015625, 2993.666748046875, 2986.205810546875, 2975.4560546875, 2964.672607421875, 2957.564453125, 2963.73828125, 2973.3994140625, 2979.870361328125, 2989.272216796875, 2994.609375, 2997.572021484375, 2993.91162109375, 2981.17138671875, 2949.28662109375, 2934.271484375, 2891.934326171875, 2882.239990234375, 2882.267578125, 2912.131591796875, 2947.58740234375, 2938.232666015625, 2935.0849609375, 2889.999267578125, 2882.5849609375, 2885.0419921875, 2909.012451171875, 2935.078125, 2942.6298828125, 2944.018310546875, 2914.440185546875, 2914.615966796875, 2899.079345703125, 2913.589599609375, 2940.950927734375, 2940.823486328125, 2941.537109375, 2939.4111328125, 2956.7841796875, 2971.364501953125, 2992.5654296875, 2980.825439453125, 2983.323974609375, 2998.4580078125, 3009.826904296875, 2996.4404296875, 2982.48046875, 2981.793701171875, 2985.711181640625, 2974.364501953125, 2967.38623046875, 2960.692138671875, 2959.228515625, 2971.950927734375, 2947.742919921875, 2940.010009765625, 2927.01953125, 2906.97216796875, 2877.98681640625, 2894.57763671875, 2910.08984375, 2900.96142578125, 2891.423583984375, 2887.675537109375, 2908.12109375, 2929.68017578125, 2926.689453125, 2919.75537109375, 2919.523193359375, 2919.220703125, 2915.3359375, 2915.84521484375, 2908.268310546875, 2911.127685546875, 2914.017578125, 2923.0068359375, 2913.5146484375, 2919.103759765625]\n"
          ],
          "name": "stdout"
        }
      ]
    },
    {
      "cell_type": "code",
      "metadata": {
        "id": "MrVVFNr_dD1Q",
        "colab_type": "code",
        "colab": {}
      },
      "source": [
        "ture_test_list = true_price_test.to_list()\n",
        "pred_test_list = pred_price_test.tolist()"
      ],
      "execution_count": 0,
      "outputs": []
    },
    {
      "cell_type": "code",
      "metadata": {
        "id": "9sZOMZq46iJf",
        "colab_type": "code",
        "outputId": "26fae67b-af45-431b-bcab-c05430e95409",
        "colab": {
          "base_uri": "https://localhost:8080/",
          "height": 34
        }
      },
      "source": [
        "pred_denorm.shape"
      ],
      "execution_count": 0,
      "outputs": [
        {
          "output_type": "execute_result",
          "data": {
            "text/plain": [
              "(732,)"
            ]
          },
          "metadata": {
            "tags": []
          },
          "execution_count": 23
        }
      ]
    },
    {
      "cell_type": "markdown",
      "metadata": {
        "id": "yEhlAWMd3rk4",
        "colab_type": "text"
      },
      "source": [
        "## 4. Predictions"
      ]
    },
    {
      "cell_type": "code",
      "metadata": {
        "id": "NAWSp7tD4CCl",
        "colab_type": "code",
        "outputId": "b90ebb2a-52f1-4fa6-f596-99bd65d5b29a",
        "colab": {
          "base_uri": "https://localhost:8080/",
          "height": 34
        }
      },
      "source": [
        "window = 22\n",
        "se1 = np.full((window,), pred_denorm[0])\n",
        "pred_denorm_fill = np.concatenate((se1, pred_denorm), axis=None) \n",
        "len(pred_denorm_fill)"
      ],
      "execution_count": 0,
      "outputs": [
        {
          "output_type": "execute_result",
          "data": {
            "text/plain": [
              "755"
            ]
          },
          "metadata": {
            "tags": []
          },
          "execution_count": 77
        }
      ]
    },
    {
      "cell_type": "code",
      "metadata": {
        "id": "A8hYMSpN2HNi",
        "colab_type": "code",
        "colab": {}
      },
      "source": [
        "df_plot = df.copy()\n",
        "df_plot['Predicted Price'] = pred_denorm_fill"
      ],
      "execution_count": 0,
      "outputs": []
    },
    {
      "cell_type": "code",
      "metadata": {
        "id": "5feZbnTzsv7c",
        "colab_type": "code",
        "colab": {}
      },
      "source": [
        "df_plot.to_csv('df_plot.csv')\n",
        "!cp df_plot.csv /content/drive/My\\ Drive/UR/DSC440_Data_Mining/Project/Data/df_plot.csv"
      ],
      "execution_count": 0,
      "outputs": []
    },
    {
      "cell_type": "code",
      "metadata": {
        "id": "vEuIhoAJ5hKV",
        "colab_type": "code",
        "outputId": "42104c8a-fb5a-40d8-cceb-a2b176df2f25",
        "colab": {
          "base_uri": "https://localhost:8080/",
          "height": 648
        }
      },
      "source": [
        "def plot_technical_indicators(dataset, pred_price):\n",
        "    plt.figure(figsize=(16, 10), dpi=100)\n",
        "    \n",
        "#    x_ = range(3, dataset.shape[0])\n",
        "    x_ =list(dataset.index[window:])\n",
        "    \n",
        "    # Plot first subplot\n",
        "#    plt.subplot(2, 1, 1)\n",
        "    plt.figure(figsize=(14, 7), dpi=100)\n",
        "    plt.plot(dataset['price'][window:],label='Closing Price', color='b')\n",
        "    plt.plot(x_, pred_price ,label='Predicted Price', color='r',linestyle='--')\n",
        "    plt.title('Comparision of true price and predicted price')\n",
        "    plt.ylabel('USD')\n",
        "    plt.legend()\n",
        "\n",
        "    # # Plot second subplot\n",
        "    # plt.subplot(2, 1, 2)\n",
        "    # plt.title('MACD')\n",
        "    # plt.plot(dataset['MACD'],label='MACD', linestyle='-.')\n",
        "    # plt.hlines(15, xmacd_, shape_0, colors='g', linestyles='--')\n",
        "    # plt.hlines(-15, xmacd_, shape_0, colors='g', linestyles='--')\n",
        "    # plt.plot(dataset['momentum'],label='Momentum', color='b',linestyle='-')\n",
        "\n",
        "    plt.legend()\n",
        "    plt.show()\n",
        "\n",
        "plot_technical_indicators(df, pred_denorm)"
      ],
      "execution_count": 0,
      "outputs": [
        {
          "output_type": "display_data",
          "data": {
            "text/plain": [
              "<Figure size 1600x1000 with 0 Axes>"
            ]
          },
          "metadata": {
            "tags": []
          }
        },
        {
          "output_type": "display_data",
          "data": {
            "image/png": "[encoded data removed]",
            "text/plain": [
              "<Figure size 1400x700 with 1 Axes>"
            ]
          },
          "metadata": {
            "tags": []
          }
        }
      ]
    },
    {
      "cell_type": "code",
      "metadata": {
        "id": "of6W_4Snpa4t",
        "colab_type": "code",
        "outputId": "e6f084d0-9469-42e9-a209-1b44ccedb4a0",
        "colab": {
          "base_uri": "https://localhost:8080/",
          "height": 102
        }
      },
      "source": [
        "class Auto_exchange():\n",
        "  def __init__(self):\n",
        "    self.capital = 10000\n",
        "    self.remain = 10000\n",
        "    self.stock = 0\n",
        "    self.avg = []\n",
        "    self.small_rate = 0.025\n",
        "    self.large_rate = 2 * self.small_rate\n",
        "  def assestment(self):\n",
        "    return print(self.remain + self.stock * self.true_value[-1] - self.capital)\n",
        "  def trade(self, y_test, y_pred):\n",
        "    self.days = len(y_pred)\n",
        "    self.true_value = y_test\n",
        "    self.pred_value = y_pred\n",
        "    for day in range(1, self.days):\n",
        "      self.diff = self.pred_value[day] - self.pred_value[day-1]\n",
        "      self.avg.append(abs(self.diff))\n",
        "      self.threshold = statistics.mean(self.avg)\n",
        "      if self.diff < 0:\n",
        "        self.remain, self.stock = self.sell(self.true_value[day], day)\n",
        "      if self.diff >0:\n",
        "        self.remain, self.stock = self.buy(self.true_value[day])\n",
        "      if self.diff == 0:\n",
        "        pass\n",
        "      #f\"Today is the {day}.th day\"\n",
        "    print(\"Complete trade\")\n",
        "  def sell(self, true_value, day):\n",
        "    if self.stock > 0:\n",
        "      if self.diff >= self.threshold:\n",
        "        self.remain += self.stock * self.large_rate * true_value\n",
        "        self.stock = self.stock * (1-self.large_rate)\n",
        "      else:\n",
        "        self.remain += self.stock * self.small_rate * true_value\n",
        "        self.stock = self.stock + (1-self.small_rate)\n",
        "    else:\n",
        "      print(\"Today is day {}, I don't have enough stock\".format(day))\n",
        "    return self.remain, self.stock\n",
        "  def buy(self, true_value):\n",
        "    if self.remain >= true_value * self.large_rate:\n",
        "      if self.diff >= self.threshold:\n",
        "        self.stock += self.remain * self.large_rate / true_value\n",
        "        self.remain = self.remain * (1-self.large_rate)\n",
        "      else:\n",
        "        self.stock += self.remain * self.small_rate / true_value\n",
        "        self.remain = self.remain * (1-self.small_rate)\n",
        "    else:\n",
        "      print(\"I am out of money\")\n",
        "    return self.remain, self.stock\n",
        "      \n",
        "\n",
        "\n",
        "true_price = df.price[window + y_train.shape[0]:window + y_train.shape[0]+y_test.shape[0]]/100\n",
        "pred_price = pred_denorm[y_train.shape[0]:y_train.shape[0]+y_test.shape[0]]/100\n",
        "auto = Auto_exchange()\n",
        "auto.trade(true_price, pred_price)\n",
        "auto.assestment()"
      ],
      "execution_count": 0,
      "outputs": [
        {
          "output_type": "stream",
          "text": [
            "Today is day 1, I don't have enough stock\n",
            "Today is day 2, I don't have enough stock\n",
            "Today is day 3, I don't have enough stock\n",
            "Complete trade\n",
            "11841.069776910324\n"
          ],
          "name": "stdout"
        }
      ]
    }
  ]
}