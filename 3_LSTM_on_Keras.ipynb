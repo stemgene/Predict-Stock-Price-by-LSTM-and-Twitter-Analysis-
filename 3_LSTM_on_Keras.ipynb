{
  "nbformat": 4,
  "nbformat_minor": 0,
  "metadata": {
    "colab": {
      "name": "2. LSTM on Keras.ipynb",
      "provenance": [],
      "collapsed_sections": [],
      "include_colab_link": true
    },
    "kernelspec": {
      "name": "python3",
      "display_name": "Python 3"
    }
  },
  "cells": [
    {
      "cell_type": "markdown",
      "metadata": {
        "id": "view-in-github",
        "colab_type": "text"
      },
      "source": [
        "<a href=\"https://colab.research.google.com/github/stemgene/Predict-Stock-Price-by-LSTM-and-Twitter-Analysis-/blob/master/3_LSTM_on_Keras.ipynb\" target=\"_parent\"><img src=\"https://colab.research.google.com/assets/colab-badge.svg\" alt=\"Open In Colab\"/></a>"
      ]
    },
    {
      "cell_type": "code",
      "metadata": {
        "id": "iyTNi08Eh-zd",
        "colab_type": "code",
        "outputId": "1b49b5e4-4b20-4ef2-9b7b-356afce20b54",
        "colab": {
          "base_uri": "https://localhost:8080/",
          "height": 34
        }
      },
      "source": [
        "import numpy as np\n",
        "import pandas as pd\n",
        "import math\n",
        "import sklearn\n",
        "import sklearn.preprocessing\n",
        "import datetime\n",
        "import os\n",
        "import matplotlib.pyplot as plt\n",
        "import csv\n",
        "import time\n",
        "import statistics\n",
        "\n",
        "from keras.models import Sequential\n",
        "from keras.layers.core import Dense, Dropout, Activation, Flatten\n",
        "from keras.layers.recurrent import LSTM\n",
        "from keras.models import load_model\n",
        "import keras\n",
        "\n",
        "from google.colab import drive\n",
        "drive.mount('/content/drive')"
      ],
      "execution_count": 21,
      "outputs": [
        {
          "output_type": "stream",
          "text": [
            "Drive already mounted at /content/drive; to attempt to forcibly remount, call drive.mount(\"/content/drive\", force_remount=True).\n"
          ],
          "name": "stdout"
        }
      ]
    },
    {
      "cell_type": "code",
      "metadata": {
        "id": "epOrQtwKP1jc",
        "colab_type": "code",
        "outputId": "30ef2c34-ea0a-44ee-f0f8-13c6ec10a7bf",
        "colab": {
          "base_uri": "https://localhost:8080/",
          "height": 235
        }
      },
      "source": [
        "stocks = pd.read_csv(\"/content/drive/My Drive/UR/DSC440_Data_Mining/Project/Data/SP500_cleaned.csv\", parse_dates=['Date']).set_index('Date')\n",
        "df = stocks.copy()\n",
        "df.head()"
      ],
      "execution_count": 22,
      "outputs": [
        {
          "output_type": "execute_result",
          "data": {
            "text/html": [
              "<div>\n",
              "<style scoped>\n",
              "    .dataframe tbody tr th:only-of-type {\n",
              "        vertical-align: middle;\n",
              "    }\n",
              "\n",
              "    .dataframe tbody tr th {\n",
              "        vertical-align: top;\n",
              "    }\n",
              "\n",
              "    .dataframe thead th {\n",
              "        text-align: right;\n",
              "    }\n",
              "</style>\n",
              "<table border=\"1\" class=\"dataframe\">\n",
              "  <thead>\n",
              "    <tr style=\"text-align: right;\">\n",
              "      <th></th>\n",
              "      <th>price</th>\n",
              "      <th>Volume</th>\n",
              "      <th>ma7</th>\n",
              "      <th>ma21</th>\n",
              "      <th>26ema</th>\n",
              "      <th>12ema</th>\n",
              "      <th>MACD</th>\n",
              "      <th>20sd</th>\n",
              "      <th>upper_band</th>\n",
              "      <th>lower_band</th>\n",
              "      <th>ema</th>\n",
              "      <th>momentum</th>\n",
              "      <th>FFT 3</th>\n",
              "      <th>FFT 6</th>\n",
              "      <th>FFT 9</th>\n",
              "      <th>ARIMA</th>\n",
              "    </tr>\n",
              "    <tr>\n",
              "      <th>Date</th>\n",
              "      <th></th>\n",
              "      <th></th>\n",
              "      <th></th>\n",
              "      <th></th>\n",
              "      <th></th>\n",
              "      <th></th>\n",
              "      <th></th>\n",
              "      <th></th>\n",
              "      <th></th>\n",
              "      <th></th>\n",
              "      <th></th>\n",
              "      <th></th>\n",
              "      <th></th>\n",
              "      <th></th>\n",
              "      <th></th>\n",
              "      <th></th>\n",
              "    </tr>\n",
              "  </thead>\n",
              "  <tbody>\n",
              "    <tr>\n",
              "      <th>2016-11-01</th>\n",
              "      <td>2111.719971</td>\n",
              "      <td>4532160000</td>\n",
              "      <td>2111.719971</td>\n",
              "      <td>2111.719971</td>\n",
              "      <td>2111.719971</td>\n",
              "      <td>2111.719971</td>\n",
              "      <td>0.000000</td>\n",
              "      <td>40.901838</td>\n",
              "      <td>2193.523646</td>\n",
              "      <td>2029.916296</td>\n",
              "      <td>2111.719971</td>\n",
              "      <td>2110.719971</td>\n",
              "      <td>2615.7224</td>\n",
              "      <td>2584.3904</td>\n",
              "      <td>2564.2063</td>\n",
              "      <td>2111.719971</td>\n",
              "    </tr>\n",
              "    <tr>\n",
              "      <th>2016-11-02</th>\n",
              "      <td>2097.939941</td>\n",
              "      <td>4248580000</td>\n",
              "      <td>2097.939941</td>\n",
              "      <td>2097.939941</td>\n",
              "      <td>2104.564955</td>\n",
              "      <td>2104.255788</td>\n",
              "      <td>-0.309167</td>\n",
              "      <td>40.901838</td>\n",
              "      <td>2179.743616</td>\n",
              "      <td>2016.136266</td>\n",
              "      <td>2101.384949</td>\n",
              "      <td>2096.939941</td>\n",
              "      <td>2610.4692</td>\n",
              "      <td>2573.1755</td>\n",
              "      <td>2546.7517</td>\n",
              "      <td>2097.939941</td>\n",
              "    </tr>\n",
              "    <tr>\n",
              "      <th>2016-11-03</th>\n",
              "      <td>2088.659912</td>\n",
              "      <td>3886740000</td>\n",
              "      <td>2088.659912</td>\n",
              "      <td>2088.659912</td>\n",
              "      <td>2098.850428</td>\n",
              "      <td>2098.168714</td>\n",
              "      <td>-0.681714</td>\n",
              "      <td>40.901838</td>\n",
              "      <td>2170.463587</td>\n",
              "      <td>2006.856237</td>\n",
              "      <td>2092.575308</td>\n",
              "      <td>2087.659912</td>\n",
              "      <td>2605.2153</td>\n",
              "      <td>2561.9850</td>\n",
              "      <td>2529.3977</td>\n",
              "      <td>2088.659912</td>\n",
              "    </tr>\n",
              "    <tr>\n",
              "      <th>2016-11-04</th>\n",
              "      <td>2085.179932</td>\n",
              "      <td>3837860000</td>\n",
              "      <td>2085.179932</td>\n",
              "      <td>2085.179932</td>\n",
              "      <td>2095.028755</td>\n",
              "      <td>2094.068663</td>\n",
              "      <td>-0.960091</td>\n",
              "      <td>40.901838</td>\n",
              "      <td>2166.983607</td>\n",
              "      <td>2003.376257</td>\n",
              "      <td>2087.583429</td>\n",
              "      <td>2084.179932</td>\n",
              "      <td>2599.9626</td>\n",
              "      <td>2550.8303</td>\n",
              "      <td>2512.1785</td>\n",
              "      <td>2085.179932</td>\n",
              "    </tr>\n",
              "    <tr>\n",
              "      <th>2016-11-07</th>\n",
              "      <td>2131.520020</td>\n",
              "      <td>3736060000</td>\n",
              "      <td>2131.520020</td>\n",
              "      <td>2131.520020</td>\n",
              "      <td>2103.491230</td>\n",
              "      <td>2104.244063</td>\n",
              "      <td>0.752833</td>\n",
              "      <td>40.901838</td>\n",
              "      <td>2213.323695</td>\n",
              "      <td>2049.716345</td>\n",
              "      <td>2116.995527</td>\n",
              "      <td>2130.520020</td>\n",
              "      <td>2594.7124</td>\n",
              "      <td>2539.7214</td>\n",
              "      <td>2495.1277</td>\n",
              "      <td>2131.520020</td>\n",
              "    </tr>\n",
              "  </tbody>\n",
              "</table>\n",
              "</div>"
            ],
            "text/plain": [
              "                  price      Volume  ...      FFT 9        ARIMA\n",
              "Date                                 ...                        \n",
              "2016-11-01  2111.719971  4532160000  ...  2564.2063  2111.719971\n",
              "2016-11-02  2097.939941  4248580000  ...  2546.7517  2097.939941\n",
              "2016-11-03  2088.659912  3886740000  ...  2529.3977  2088.659912\n",
              "2016-11-04  2085.179932  3837860000  ...  2512.1785  2085.179932\n",
              "2016-11-07  2131.520020  3736060000  ...  2495.1277  2131.520020\n",
              "\n",
              "[5 rows x 16 columns]"
            ]
          },
          "metadata": {
            "tags": []
          },
          "execution_count": 22
        }
      ]
    },
    {
      "cell_type": "code",
      "metadata": {
        "id": "ikslfxVPxBLD",
        "colab_type": "code",
        "outputId": "308deb6f-4176-4436-e57c-dae62b0e8cec",
        "colab": {
          "base_uri": "https://localhost:8080/",
          "height": 119
        }
      },
      "source": [
        "from numpy import genfromtxt\n",
        "X_train = genfromtxt('/content/drive/My Drive/UR/DSC440_Data_Mining/Project/Data/trained/X_train_522_5_39.csv', delimiter=',').reshape(522,5,39)\n",
        "X_val = genfromtxt('/content/drive/My Drive/UR/DSC440_Data_Mining/Project/Data/trained/X_val_115_5_39.csv', delimiter=',').reshape(115,5,39)\n",
        "X_test = genfromtxt('/content/drive/My Drive/UR/DSC440_Data_Mining/Project/Data/trained/X_test_113_5_39.csv', delimiter=',').reshape(113,5,39)\n",
        "y_train = genfromtxt('/content/drive/My Drive/UR/DSC440_Data_Mining/Project/Data/trained/y_train.csv', delimiter=',').reshape(-1,1)\n",
        "y_val = genfromtxt('/content/drive/My Drive/UR/DSC440_Data_Mining/Project/Data/trained/y_val.csv', delimiter=',').reshape(-1,1)\n",
        "y_test = genfromtxt('/content/drive/My Drive/UR/DSC440_Data_Mining/Project/Data/trained/y_test.csv', delimiter=',').reshape(-1,1)\n",
        "label_level_matrix = genfromtxt('/content/drive/My Drive/UR/DSC440_Data_Mining/Project/Data/trained/label_level_matrix.csv', delimiter=',')\n",
        "print(\"X_train's shape:\", X_train.shape)\n",
        "print(\"y_train's shape:\", y_train.shape)\n",
        "print(\"X_val's shape:\", X_val.shape)\n",
        "print(\"y_val's shape:\", y_val.shape)\n",
        "print(\"X_test's shape:\", X_test.shape)\n",
        "print(\"y_test's shape:\", y_test.shape)\n"
      ],
      "execution_count": 23,
      "outputs": [
        {
          "output_type": "stream",
          "text": [
            "X_train's shape: (522, 5, 39)\n",
            "y_train's shape: (522, 1)\n",
            "X_val's shape: (115, 5, 39)\n",
            "y_val's shape: (115, 1)\n",
            "X_test's shape: (113, 5, 39)\n",
            "y_test's shape: (113, 1)\n"
          ],
          "name": "stdout"
        }
      ]
    },
    {
      "cell_type": "markdown",
      "metadata": {
        "id": "3iDVZ8tItWU7",
        "colab_type": "text"
      },
      "source": [
        "### Keras doesn't need validation set, it can split validation set in models itself"
      ]
    },
    {
      "cell_type": "code",
      "metadata": {
        "id": "zAAKldPwsx2B",
        "colab_type": "code",
        "outputId": "afa83f59-4a3b-4776-ed18-2b3853021139",
        "colab": {
          "base_uri": "https://localhost:8080/",
          "height": 51
        }
      },
      "source": [
        "X_train = np.concatenate((X_train, X_val), axis=0)\n",
        "y_train = np.concatenate((y_train, y_val), axis=0)\n",
        "print(\"X_train's shape:\", X_train.shape)\n",
        "print(\"y_train's shape:\", y_train.shape)"
      ],
      "execution_count": 24,
      "outputs": [
        {
          "output_type": "stream",
          "text": [
            "X_train's shape: (637, 5, 39)\n",
            "y_train's shape: (637, 1)\n"
          ],
          "name": "stdout"
        }
      ]
    },
    {
      "cell_type": "markdown",
      "metadata": {
        "id": "yUwGzuKfZVC9",
        "colab_type": "text"
      },
      "source": [
        "## Proform LSTM\n",
        "\n",
        "### Build and train model"
      ]
    },
    {
      "cell_type": "code",
      "metadata": {
        "id": "XJI6_xzbYHvc",
        "colab_type": "code",
        "outputId": "22101f4f-35f7-4738-d742-164798afc682",
        "colab": {
          "base_uri": "https://localhost:8080/",
          "height": 1000
        }
      },
      "source": [
        "def build_model(layers):\n",
        "  d = 0.10\n",
        "  model = Sequential()\n",
        "\n",
        "  model.add(LSTM(256, input_shape=(layers[1], layers[0]), return_sequences=True))\n",
        "  model.add(Dropout(d))\n",
        "\n",
        "  model.add(LSTM(256, input_shape=(layers[1], layers[0]), return_sequences=True))\n",
        "  model.add(Dropout(d))\n",
        "\n",
        "  model.add(Flatten())\n",
        "\n",
        "  model.add(Dense(32, kernel_initializer='uniform', activation='elu'))\n",
        "  model.add(Dense(1, kernel_initializer='uniform', activation='linear'))\n",
        "\n",
        "  adam = keras.optimizers.Adam(decay=0.2)\n",
        "\n",
        "  start = time.time()\n",
        "  model.compile(loss='mse', optimizer='adam', metrics=['accuracy'])\n",
        "  print(\"Comilation Time:\", time.time()-start)\n",
        "  return model\n",
        "\n",
        "window = 5\n",
        "model = build_model([39, window, 1]) # 22 = number of features\n",
        "model.fit(X_train, y_train, batch_size=512, epochs=90, validation_split=0.18, verbose=1)"
      ],
      "execution_count": 25,
      "outputs": [
        {
          "output_type": "stream",
          "text": [
            "Comilation Time: 0.02631235122680664\n",
            "Train on 522 samples, validate on 115 samples\n",
            "Epoch 1/90\n",
            "522/522 [==============================] - 2s 4ms/step - loss: 0.3016 - acc: 0.0000e+00 - val_loss: 0.3876 - val_acc: 0.0000e+00\n",
            "Epoch 2/90\n",
            "522/522 [==============================] - 0s 823us/step - loss: 0.2287 - acc: 0.0000e+00 - val_loss: 0.2029 - val_acc: 0.0000e+00\n",
            "Epoch 3/90\n",
            "522/522 [==============================] - 0s 831us/step - loss: 0.1125 - acc: 0.0000e+00 - val_loss: 0.0135 - val_acc: 0.0000e+00\n",
            "Epoch 4/90\n",
            "522/522 [==============================] - 0s 822us/step - loss: 0.0112 - acc: 0.0000e+00 - val_loss: 0.0477 - val_acc: 0.0000e+00\n",
            "Epoch 5/90\n",
            "522/522 [==============================] - 0s 826us/step - loss: 0.0656 - acc: 0.0000e+00 - val_loss: 0.0088 - val_acc: 0.0000e+00\n",
            "Epoch 6/90\n",
            "522/522 [==============================] - 0s 803us/step - loss: 0.0155 - acc: 0.0000e+00 - val_loss: 0.0420 - val_acc: 0.0000e+00\n",
            "Epoch 7/90\n",
            "522/522 [==============================] - 0s 800us/step - loss: 0.0203 - acc: 0.0000e+00 - val_loss: 0.0691 - val_acc: 0.0000e+00\n",
            "Epoch 8/90\n",
            "522/522 [==============================] - 0s 821us/step - loss: 0.0334 - acc: 0.0000e+00 - val_loss: 0.0549 - val_acc: 0.0000e+00\n",
            "Epoch 9/90\n",
            "522/522 [==============================] - 0s 794us/step - loss: 0.0259 - acc: 0.0000e+00 - val_loss: 0.0243 - val_acc: 0.0000e+00\n",
            "Epoch 10/90\n",
            "522/522 [==============================] - 0s 835us/step - loss: 0.0127 - acc: 0.0000e+00 - val_loss: 0.0091 - val_acc: 0.0000e+00\n",
            "Epoch 11/90\n",
            "522/522 [==============================] - 0s 813us/step - loss: 0.0138 - acc: 0.0000e+00 - val_loss: 0.0113 - val_acc: 0.0000e+00\n",
            "Epoch 12/90\n",
            "522/522 [==============================] - 0s 834us/step - loss: 0.0218 - acc: 0.0000e+00 - val_loss: 0.0088 - val_acc: 0.0000e+00\n",
            "Epoch 13/90\n",
            "522/522 [==============================] - 0s 808us/step - loss: 0.0149 - acc: 0.0000e+00 - val_loss: 0.0131 - val_acc: 0.0000e+00\n",
            "Epoch 14/90\n",
            "522/522 [==============================] - 0s 808us/step - loss: 0.0089 - acc: 0.0000e+00 - val_loss: 0.0277 - val_acc: 0.0000e+00\n",
            "Epoch 15/90\n",
            "522/522 [==============================] - 0s 883us/step - loss: 0.0126 - acc: 0.0000e+00 - val_loss: 0.0330 - val_acc: 0.0000e+00\n",
            "Epoch 16/90\n",
            "522/522 [==============================] - 0s 811us/step - loss: 0.0149 - acc: 0.0000e+00 - val_loss: 0.0236 - val_acc: 0.0000e+00\n",
            "Epoch 17/90\n",
            "522/522 [==============================] - 0s 804us/step - loss: 0.0104 - acc: 0.0000e+00 - val_loss: 0.0116 - val_acc: 0.0000e+00\n",
            "Epoch 18/90\n",
            "522/522 [==============================] - 0s 825us/step - loss: 0.0061 - acc: 0.0000e+00 - val_loss: 0.0071 - val_acc: 0.0000e+00\n",
            "Epoch 19/90\n",
            "522/522 [==============================] - 0s 814us/step - loss: 0.0080 - acc: 0.0000e+00 - val_loss: 0.0082 - val_acc: 0.0000e+00\n",
            "Epoch 20/90\n",
            "522/522 [==============================] - 0s 825us/step - loss: 0.0098 - acc: 0.0000e+00 - val_loss: 0.0064 - val_acc: 0.0000e+00\n",
            "Epoch 21/90\n",
            "522/522 [==============================] - 0s 795us/step - loss: 0.0052 - acc: 0.0000e+00 - val_loss: 0.0092 - val_acc: 0.0000e+00\n",
            "Epoch 22/90\n",
            "522/522 [==============================] - 0s 792us/step - loss: 0.0037 - acc: 0.0000e+00 - val_loss: 0.0133 - val_acc: 0.0000e+00\n",
            "Epoch 23/90\n",
            "522/522 [==============================] - 0s 809us/step - loss: 0.0050 - acc: 0.0000e+00 - val_loss: 0.0109 - val_acc: 0.0000e+00\n",
            "Epoch 24/90\n",
            "522/522 [==============================] - 0s 821us/step - loss: 0.0039 - acc: 0.0000e+00 - val_loss: 0.0062 - val_acc: 0.0000e+00\n",
            "Epoch 25/90\n",
            "522/522 [==============================] - 0s 820us/step - loss: 0.0022 - acc: 0.0000e+00 - val_loss: 0.0053 - val_acc: 0.0000e+00\n",
            "Epoch 26/90\n",
            "522/522 [==============================] - 0s 797us/step - loss: 0.0027 - acc: 0.0000e+00 - val_loss: 0.0055 - val_acc: 0.0000e+00\n",
            "Epoch 27/90\n",
            "522/522 [==============================] - 0s 820us/step - loss: 0.0029 - acc: 0.0000e+00 - val_loss: 0.0047 - val_acc: 0.0000e+00\n",
            "Epoch 28/90\n",
            "522/522 [==============================] - 0s 891us/step - loss: 0.0017 - acc: 0.0000e+00 - val_loss: 0.0050 - val_acc: 0.0000e+00\n",
            "Epoch 29/90\n",
            "522/522 [==============================] - 0s 864us/step - loss: 0.0017 - acc: 0.0000e+00 - val_loss: 0.0048 - val_acc: 0.0000e+00\n",
            "Epoch 30/90\n",
            "522/522 [==============================] - 0s 808us/step - loss: 0.0019 - acc: 0.0000e+00 - val_loss: 0.0044 - val_acc: 0.0000e+00\n",
            "Epoch 31/90\n",
            "522/522 [==============================] - 0s 788us/step - loss: 0.0017 - acc: 0.0000e+00 - val_loss: 0.0046 - val_acc: 0.0000e+00\n",
            "Epoch 32/90\n",
            "522/522 [==============================] - 0s 788us/step - loss: 0.0019 - acc: 0.0000e+00 - val_loss: 0.0044 - val_acc: 0.0000e+00\n",
            "Epoch 33/90\n",
            "522/522 [==============================] - 0s 772us/step - loss: 0.0016 - acc: 0.0000e+00 - val_loss: 0.0049 - val_acc: 0.0000e+00\n",
            "Epoch 34/90\n",
            "522/522 [==============================] - 0s 821us/step - loss: 0.0019 - acc: 0.0000e+00 - val_loss: 0.0048 - val_acc: 0.0000e+00\n",
            "Epoch 35/90\n",
            "522/522 [==============================] - 0s 828us/step - loss: 0.0017 - acc: 0.0000e+00 - val_loss: 0.0044 - val_acc: 0.0000e+00\n",
            "Epoch 36/90\n",
            "522/522 [==============================] - 0s 879us/step - loss: 0.0015 - acc: 0.0000e+00 - val_loss: 0.0045 - val_acc: 0.0000e+00\n",
            "Epoch 37/90\n",
            "522/522 [==============================] - 0s 871us/step - loss: 0.0017 - acc: 0.0000e+00 - val_loss: 0.0046 - val_acc: 0.0000e+00\n",
            "Epoch 38/90\n",
            "522/522 [==============================] - 0s 835us/step - loss: 0.0018 - acc: 0.0000e+00 - val_loss: 0.0045 - val_acc: 0.0000e+00\n",
            "Epoch 39/90\n",
            "522/522 [==============================] - 0s 880us/step - loss: 0.0017 - acc: 0.0000e+00 - val_loss: 0.0047 - val_acc: 0.0000e+00\n",
            "Epoch 40/90\n",
            "522/522 [==============================] - 0s 862us/step - loss: 0.0015 - acc: 0.0000e+00 - val_loss: 0.0051 - val_acc: 0.0000e+00\n",
            "Epoch 41/90\n",
            "522/522 [==============================] - 0s 820us/step - loss: 0.0016 - acc: 0.0000e+00 - val_loss: 0.0050 - val_acc: 0.0000e+00\n",
            "Epoch 42/90\n",
            "522/522 [==============================] - 0s 854us/step - loss: 0.0016 - acc: 0.0000e+00 - val_loss: 0.0048 - val_acc: 0.0000e+00\n",
            "Epoch 43/90\n",
            "522/522 [==============================] - 0s 849us/step - loss: 0.0015 - acc: 0.0000e+00 - val_loss: 0.0044 - val_acc: 0.0000e+00\n",
            "Epoch 44/90\n",
            "522/522 [==============================] - 0s 806us/step - loss: 0.0015 - acc: 0.0000e+00 - val_loss: 0.0044 - val_acc: 0.0000e+00\n",
            "Epoch 45/90\n",
            "522/522 [==============================] - 0s 800us/step - loss: 0.0014 - acc: 0.0000e+00 - val_loss: 0.0048 - val_acc: 0.0000e+00\n",
            "Epoch 46/90\n",
            "522/522 [==============================] - 0s 841us/step - loss: 0.0016 - acc: 0.0000e+00 - val_loss: 0.0045 - val_acc: 0.0000e+00\n",
            "Epoch 47/90\n",
            "522/522 [==============================] - 0s 810us/step - loss: 0.0014 - acc: 0.0000e+00 - val_loss: 0.0043 - val_acc: 0.0000e+00\n",
            "Epoch 48/90\n",
            "522/522 [==============================] - 0s 822us/step - loss: 0.0015 - acc: 0.0000e+00 - val_loss: 0.0042 - val_acc: 0.0000e+00\n",
            "Epoch 49/90\n",
            "522/522 [==============================] - 0s 787us/step - loss: 0.0015 - acc: 0.0000e+00 - val_loss: 0.0042 - val_acc: 0.0000e+00\n",
            "Epoch 50/90\n",
            "522/522 [==============================] - 0s 801us/step - loss: 0.0016 - acc: 0.0000e+00 - val_loss: 0.0041 - val_acc: 0.0000e+00\n",
            "Epoch 51/90\n",
            "522/522 [==============================] - 0s 798us/step - loss: 0.0015 - acc: 0.0000e+00 - val_loss: 0.0041 - val_acc: 0.0000e+00\n",
            "Epoch 52/90\n",
            "522/522 [==============================] - 0s 805us/step - loss: 0.0014 - acc: 0.0000e+00 - val_loss: 0.0041 - val_acc: 0.0000e+00\n",
            "Epoch 53/90\n",
            "522/522 [==============================] - 0s 810us/step - loss: 0.0015 - acc: 0.0000e+00 - val_loss: 0.0040 - val_acc: 0.0000e+00\n",
            "Epoch 54/90\n",
            "522/522 [==============================] - 0s 772us/step - loss: 0.0015 - acc: 0.0000e+00 - val_loss: 0.0040 - val_acc: 0.0000e+00\n",
            "Epoch 55/90\n",
            "522/522 [==============================] - 0s 814us/step - loss: 0.0015 - acc: 0.0000e+00 - val_loss: 0.0040 - val_acc: 0.0000e+00\n",
            "Epoch 56/90\n",
            "522/522 [==============================] - 0s 780us/step - loss: 0.0014 - acc: 0.0000e+00 - val_loss: 0.0042 - val_acc: 0.0000e+00\n",
            "Epoch 57/90\n",
            "522/522 [==============================] - 0s 821us/step - loss: 0.0014 - acc: 0.0000e+00 - val_loss: 0.0041 - val_acc: 0.0000e+00\n",
            "Epoch 58/90\n",
            "522/522 [==============================] - 0s 793us/step - loss: 0.0013 - acc: 0.0000e+00 - val_loss: 0.0043 - val_acc: 0.0000e+00\n",
            "Epoch 59/90\n",
            "522/522 [==============================] - 0s 795us/step - loss: 0.0014 - acc: 0.0000e+00 - val_loss: 0.0042 - val_acc: 0.0000e+00\n",
            "Epoch 60/90\n",
            "522/522 [==============================] - 0s 820us/step - loss: 0.0014 - acc: 0.0000e+00 - val_loss: 0.0040 - val_acc: 0.0000e+00\n",
            "Epoch 61/90\n",
            "522/522 [==============================] - 0s 779us/step - loss: 0.0015 - acc: 0.0000e+00 - val_loss: 0.0040 - val_acc: 0.0000e+00\n",
            "Epoch 62/90\n",
            "522/522 [==============================] - 0s 838us/step - loss: 0.0016 - acc: 0.0000e+00 - val_loss: 0.0040 - val_acc: 0.0000e+00\n",
            "Epoch 63/90\n",
            "522/522 [==============================] - 0s 870us/step - loss: 0.0015 - acc: 0.0000e+00 - val_loss: 0.0044 - val_acc: 0.0000e+00\n",
            "Epoch 64/90\n",
            "522/522 [==============================] - 0s 825us/step - loss: 0.0014 - acc: 0.0000e+00 - val_loss: 0.0055 - val_acc: 0.0000e+00\n",
            "Epoch 65/90\n",
            "522/522 [==============================] - 0s 822us/step - loss: 0.0019 - acc: 0.0000e+00 - val_loss: 0.0045 - val_acc: 0.0000e+00\n",
            "Epoch 66/90\n",
            "522/522 [==============================] - 0s 831us/step - loss: 0.0015 - acc: 0.0000e+00 - val_loss: 0.0041 - val_acc: 0.0000e+00\n",
            "Epoch 67/90\n",
            "522/522 [==============================] - 0s 798us/step - loss: 0.0017 - acc: 0.0000e+00 - val_loss: 0.0039 - val_acc: 0.0000e+00\n",
            "Epoch 68/90\n",
            "522/522 [==============================] - 0s 833us/step - loss: 0.0014 - acc: 0.0000e+00 - val_loss: 0.0043 - val_acc: 0.0000e+00\n",
            "Epoch 69/90\n",
            "522/522 [==============================] - 0s 840us/step - loss: 0.0014 - acc: 0.0000e+00 - val_loss: 0.0041 - val_acc: 0.0000e+00\n",
            "Epoch 70/90\n",
            "522/522 [==============================] - 0s 831us/step - loss: 0.0014 - acc: 0.0000e+00 - val_loss: 0.0038 - val_acc: 0.0000e+00\n",
            "Epoch 71/90\n",
            "522/522 [==============================] - 0s 809us/step - loss: 0.0013 - acc: 0.0000e+00 - val_loss: 0.0039 - val_acc: 0.0000e+00\n",
            "Epoch 72/90\n",
            "522/522 [==============================] - 0s 822us/step - loss: 0.0013 - acc: 0.0000e+00 - val_loss: 0.0039 - val_acc: 0.0000e+00\n",
            "Epoch 73/90\n",
            "522/522 [==============================] - 0s 814us/step - loss: 0.0013 - acc: 0.0000e+00 - val_loss: 0.0038 - val_acc: 0.0000e+00\n",
            "Epoch 74/90\n",
            "522/522 [==============================] - 0s 817us/step - loss: 0.0013 - acc: 0.0000e+00 - val_loss: 0.0038 - val_acc: 0.0000e+00\n",
            "Epoch 75/90\n",
            "522/522 [==============================] - 0s 806us/step - loss: 0.0015 - acc: 0.0000e+00 - val_loss: 0.0039 - val_acc: 0.0000e+00\n",
            "Epoch 76/90\n",
            "522/522 [==============================] - 0s 795us/step - loss: 0.0013 - acc: 0.0000e+00 - val_loss: 0.0057 - val_acc: 0.0000e+00\n",
            "Epoch 77/90\n",
            "522/522 [==============================] - 0s 802us/step - loss: 0.0021 - acc: 0.0000e+00 - val_loss: 0.0038 - val_acc: 0.0000e+00\n",
            "Epoch 78/90\n",
            "522/522 [==============================] - 0s 828us/step - loss: 0.0014 - acc: 0.0000e+00 - val_loss: 0.0059 - val_acc: 0.0000e+00\n",
            "Epoch 79/90\n",
            "522/522 [==============================] - 0s 835us/step - loss: 0.0037 - acc: 0.0000e+00 - val_loss: 0.0040 - val_acc: 0.0000e+00\n",
            "Epoch 80/90\n",
            "522/522 [==============================] - 0s 803us/step - loss: 0.0017 - acc: 0.0000e+00 - val_loss: 0.0054 - val_acc: 0.0000e+00\n",
            "Epoch 81/90\n",
            "522/522 [==============================] - 0s 832us/step - loss: 0.0019 - acc: 0.0000e+00 - val_loss: 0.0060 - val_acc: 0.0000e+00\n",
            "Epoch 82/90\n",
            "522/522 [==============================] - 0s 838us/step - loss: 0.0022 - acc: 0.0000e+00 - val_loss: 0.0038 - val_acc: 0.0000e+00\n",
            "Epoch 83/90\n",
            "522/522 [==============================] - 0s 861us/step - loss: 0.0014 - acc: 0.0000e+00 - val_loss: 0.0040 - val_acc: 0.0000e+00\n",
            "Epoch 84/90\n",
            "522/522 [==============================] - 0s 830us/step - loss: 0.0017 - acc: 0.0000e+00 - val_loss: 0.0044 - val_acc: 0.0000e+00\n",
            "Epoch 85/90\n",
            "522/522 [==============================] - 0s 834us/step - loss: 0.0014 - acc: 0.0000e+00 - val_loss: 0.0051 - val_acc: 0.0000e+00\n",
            "Epoch 86/90\n",
            "522/522 [==============================] - 0s 844us/step - loss: 0.0016 - acc: 0.0000e+00 - val_loss: 0.0039 - val_acc: 0.0000e+00\n",
            "Epoch 87/90\n",
            "522/522 [==============================] - 0s 831us/step - loss: 0.0014 - acc: 0.0000e+00 - val_loss: 0.0039 - val_acc: 0.0000e+00\n",
            "Epoch 88/90\n",
            "522/522 [==============================] - 0s 782us/step - loss: 0.0016 - acc: 0.0000e+00 - val_loss: 0.0039 - val_acc: 0.0000e+00\n",
            "Epoch 89/90\n",
            "522/522 [==============================] - 0s 800us/step - loss: 0.0014 - acc: 0.0000e+00 - val_loss: 0.0042 - val_acc: 0.0000e+00\n",
            "Epoch 90/90\n",
            "522/522 [==============================] - 0s 817us/step - loss: 0.0013 - acc: 0.0000e+00 - val_loss: 0.0038 - val_acc: 0.0000e+00\n"
          ],
          "name": "stdout"
        },
        {
          "output_type": "execute_result",
          "data": {
            "text/plain": [
              "<keras.callbacks.History at 0x7f7ab05f63c8>"
            ]
          },
          "metadata": {
            "tags": []
          },
          "execution_count": 25
        }
      ]
    },
    {
      "cell_type": "markdown",
      "metadata": {
        "id": "hmQXDhXlWHiY",
        "colab_type": "text"
      },
      "source": [
        "## Predict and denormalize data\n",
        "\n",
        "### Predict"
      ]
    },
    {
      "cell_type": "code",
      "metadata": {
        "id": "6HlsK1s8UAfl",
        "colab_type": "code",
        "colab": {}
      },
      "source": [
        "diff = []\n",
        "ratio = []\n",
        "y_test_pred = model.predict(X_test)\n",
        "y_train_pred = model.predict(X_train)\n",
        "#print(p.shape)\n",
        "\n",
        "#for each data index in test data\n",
        "for u in range(len(y_test)):\n",
        "  # pr = prediction day u\n",
        "  pr = y_test_pred[u][0]\n",
        "  # (y_test day u / pr) - 1\n",
        "  ratio.append((y_test[u]/pr)-1)\n",
        "  diff.append(abs(y_test[u]-pr))"
      ],
      "execution_count": 0,
      "outputs": []
    },
    {
      "cell_type": "markdown",
      "metadata": {
        "id": "2sjZ6iB9Z2F1",
        "colab_type": "text"
      },
      "source": [
        "#### Evaluate the model"
      ]
    },
    {
      "cell_type": "code",
      "metadata": {
        "id": "GMFs-PBgZzkX",
        "colab_type": "code",
        "outputId": "adb71426-2d66-445d-f87a-6c0fa18b6b46",
        "colab": {
          "base_uri": "https://localhost:8080/",
          "height": 68
        }
      },
      "source": [
        "def model_score(model, X_train, y_train, X_test, y_test):\n",
        "  trainScore = model.evaluate(X_train, y_train, verbose=0)\n",
        "  print(\"Train Score: %.5f MSE (%.2f RMSE)\"%(trainScore[0], math.sqrt(trainScore[0])))\n",
        "\n",
        "  testScore = model.evaluate(X_test, y_test, verbose=0)\n",
        "  print(\"Test Score: %.5f MSE (%.2f RMSE)\"%(testScore[0], math.sqrt(testScore[0])))\n",
        "  return trainScore[0], testScore[0]\n",
        "\n",
        "model_score(model, X_train, y_train, X_test, y_test)"
      ],
      "execution_count": 27,
      "outputs": [
        {
          "output_type": "stream",
          "text": [
            "Train Score: 0.00168 MSE (0.04 RMSE)\n",
            "Test Score: 0.00411 MSE (0.06 RMSE)\n"
          ],
          "name": "stdout"
        },
        {
          "output_type": "execute_result",
          "data": {
            "text/plain": [
              "(0.0016775772646595863, 0.0041077009080785565)"
            ]
          },
          "metadata": {
            "tags": []
          },
          "execution_count": 27
        }
      ]
    },
    {
      "cell_type": "markdown",
      "metadata": {
        "id": "M9RffkECWSE8",
        "colab_type": "text"
      },
      "source": [
        "#### Denomalize the data"
      ]
    },
    {
      "cell_type": "code",
      "metadata": {
        "id": "__aK6As8WDcu",
        "colab_type": "code",
        "colab": {}
      },
      "source": [
        "from sklearn.preprocessing import MinMaxScaler \n",
        "def denormalize(df_ori, normalized_value):\n",
        "  ori_reshaped = df_ori.reshape(-1,1)\n",
        "  normalized_value = normalized_value.reshape(-1, 1)\n",
        "\n",
        "  scaler = MinMaxScaler(feature_range=(0, 1))\n",
        "  scaler = scaler.fit(ori_reshaped)\n",
        "  denormed = scaler.inverse_transform(normalized_value)\n",
        "  return denormed.reshape(-1)\n",
        "\n",
        "pred_normed = np.concatenate((y_train_pred, y_test_pred), axis=None)\n",
        "pred_denorm = denormalize(label_level_matrix, pred_normed)"
      ],
      "execution_count": 0,
      "outputs": []
    },
    {
      "cell_type": "markdown",
      "metadata": {
        "id": "gowtdHyRr_sL",
        "colab_type": "text"
      },
      "source": [
        "split train and test"
      ]
    },
    {
      "cell_type": "code",
      "metadata": {
        "id": "uPMJrWv1sM9Q",
        "colab_type": "code",
        "colab": {}
      },
      "source": [
        "true_price_train = df.price[window:window + y_train.shape[0]]\n",
        "true_price_test = df.price[window+ y_train.shape[0]:window + y_train.shape[0]+y_test.shape[0]]\n",
        "pred_price_train = pred_denorm[:y_train.shape[0]]\n",
        "pred_price_test = pred_denorm[y_train.shape[0]:y_train.shape[0]+y_test.shape[0]]"
      ],
      "execution_count": 0,
      "outputs": []
    },
    {
      "cell_type": "markdown",
      "metadata": {
        "id": "CQ6ytHVL9Dt_",
        "colab_type": "text"
      },
      "source": [
        "#### Evaluate the model"
      ]
    },
    {
      "cell_type": "markdown",
      "metadata": {
        "id": "JGIU-iWaBoXS",
        "colab_type": "text"
      },
      "source": [
        "Calculate RMSE"
      ]
    },
    {
      "cell_type": "code",
      "metadata": {
        "id": "t97zw80DLaK6",
        "colab_type": "code",
        "outputId": "c04ac1c2-65af-4101-b097-51a73875c0b8",
        "colab": {
          "base_uri": "https://localhost:8080/",
          "height": 51
        }
      },
      "source": [
        "from sklearn.metrics import mean_squared_error\n",
        "from math import sqrt\n",
        "# use true price to calculate root mean squared error\n",
        "trainScore = math.sqrt(mean_squared_error(true_price_train, pred_price_train))\n",
        "print('Train Score: %.2f RMSE' % (trainScore))\n",
        "testScore = math.sqrt(mean_squared_error(true_price_test, pred_price_test))\n",
        "print('Test Score: %.2f RMSE' % (testScore))"
      ],
      "execution_count": 30,
      "outputs": [
        {
          "output_type": "stream",
          "text": [
            "Train Score: 39.39 RMSE\n",
            "Test Score: 61.63 RMSE\n"
          ],
          "name": "stdout"
        }
      ]
    },
    {
      "cell_type": "markdown",
      "metadata": {
        "id": "Qcvv0f9iBrLS",
        "colab_type": "text"
      },
      "source": [
        "Calculate R^2 and t-test"
      ]
    },
    {
      "cell_type": "code",
      "metadata": {
        "id": "fIQt7ATM3P8Q",
        "colab_type": "code",
        "outputId": "b4e08a27-c541-4c07-bb37-5a464ecb18b3",
        "colab": {
          "base_uri": "https://localhost:8080/",
          "height": 204
        }
      },
      "source": [
        "true_list = df.loc[:,'price'][window:].to_list()\n",
        "pred_list = pred_denorm.tolist()\n",
        "evaluate_df = pd.DataFrame({\"true\": true_list, \"pred\":pred_list})\n",
        "evaluate_df.head()"
      ],
      "execution_count": 31,
      "outputs": [
        {
          "output_type": "execute_result",
          "data": {
            "text/html": [
              "<div>\n",
              "<style scoped>\n",
              "    .dataframe tbody tr th:only-of-type {\n",
              "        vertical-align: middle;\n",
              "    }\n",
              "\n",
              "    .dataframe tbody tr th {\n",
              "        vertical-align: top;\n",
              "    }\n",
              "\n",
              "    .dataframe thead th {\n",
              "        text-align: right;\n",
              "    }\n",
              "</style>\n",
              "<table border=\"1\" class=\"dataframe\">\n",
              "  <thead>\n",
              "    <tr style=\"text-align: right;\">\n",
              "      <th></th>\n",
              "      <th>true</th>\n",
              "      <th>pred</th>\n",
              "    </tr>\n",
              "  </thead>\n",
              "  <tbody>\n",
              "    <tr>\n",
              "      <th>0</th>\n",
              "      <td>2139.560059</td>\n",
              "      <td>2170.533203</td>\n",
              "    </tr>\n",
              "    <tr>\n",
              "      <th>1</th>\n",
              "      <td>2163.260010</td>\n",
              "      <td>2162.263428</td>\n",
              "    </tr>\n",
              "    <tr>\n",
              "      <th>2</th>\n",
              "      <td>2167.479980</td>\n",
              "      <td>2170.821533</td>\n",
              "    </tr>\n",
              "    <tr>\n",
              "      <th>3</th>\n",
              "      <td>2164.449951</td>\n",
              "      <td>2177.874756</td>\n",
              "    </tr>\n",
              "    <tr>\n",
              "      <th>4</th>\n",
              "      <td>2164.199951</td>\n",
              "      <td>2190.047363</td>\n",
              "    </tr>\n",
              "  </tbody>\n",
              "</table>\n",
              "</div>"
            ],
            "text/plain": [
              "          true         pred\n",
              "0  2139.560059  2170.533203\n",
              "1  2163.260010  2162.263428\n",
              "2  2167.479980  2170.821533\n",
              "3  2164.449951  2177.874756\n",
              "4  2164.199951  2190.047363"
            ]
          },
          "metadata": {
            "tags": []
          },
          "execution_count": 31
        }
      ]
    },
    {
      "cell_type": "code",
      "metadata": {
        "id": "_yn_pSiABhwv",
        "colab_type": "code",
        "colab": {}
      },
      "source": [
        "evaluate_df.to_csv('evaluate_group4ke.csv')\n",
        "!cp evaluate_group4ke.csv /content/drive/My\\ Drive/UR/DSC440_Data_Mining/Project/Data/trained/evaluate_group4ke.csv"
      ],
      "execution_count": 0,
      "outputs": []
    },
    {
      "cell_type": "markdown",
      "metadata": {
        "id": "MOxpGPqwB8fK",
        "colab_type": "text"
      },
      "source": [
        "For checking "
      ]
    },
    {
      "cell_type": "code",
      "metadata": {
        "id": "tFc4L0v7hRQX",
        "colab_type": "code",
        "outputId": "682c9796-b0be-4b7c-af29-74a491b40ab6",
        "colab": {
          "base_uri": "https://localhost:8080/",
          "height": 34
        }
      },
      "source": [
        "true_test_list = true_price_test.to_list()\n",
        "pred_test_list = pred_price_test.tolist()\n",
        "print(pred_test_list[0], true_test_list[0])"
      ],
      "execution_count": 32,
      "outputs": [
        {
          "output_type": "stream",
          "text": [
            "2877.6455078125 2822.23999\n"
          ],
          "name": "stdout"
        }
      ]
    },
    {
      "cell_type": "code",
      "metadata": {
        "id": "vIrU88xLHmER",
        "colab_type": "code",
        "outputId": "0f695654-1c97-4142-d158-580f5db0a7fa",
        "colab": {
          "base_uri": "https://localhost:8080/",
          "height": 1000
        }
      },
      "source": [
        "pred_train_list = pred_price_train.tolist()\n",
        "pred_train_list"
      ],
      "execution_count": 33,
      "outputs": [
        {
          "output_type": "execute_result",
          "data": {
            "text/plain": [
              "[2170.533203125,\n",
              " 2162.263427734375,\n",
              " 2170.821533203125,\n",
              " 2177.874755859375,\n",
              " 2190.04736328125,\n",
              " 2190.460205078125,\n",
              " 2184.91552734375,\n",
              " 2189.3515625,\n",
              " 2196.95751953125,\n",
              " 2203.151611328125,\n",
              " 2213.352783203125,\n",
              " 2215.925048828125,\n",
              " 2216.101806640625,\n",
              " 2215.70556640625,\n",
              " 2215.64599609375,\n",
              " 2232.054443359375,\n",
              " 2239.12353515625,\n",
              " 2241.49609375,\n",
              " 2228.966552734375,\n",
              " 2226.501220703125,\n",
              " 2216.33154296875,\n",
              " 2206.6279296875,\n",
              " 2210.22216796875,\n",
              " 2210.5517578125,\n",
              " 2212.55029296875,\n",
              " 2221.92822265625,\n",
              " 2248.74658203125,\n",
              " 2258.8818359375,\n",
              " 2257.3203125,\n",
              " 2259.7392578125,\n",
              " 2254.845947265625,\n",
              " 2259.558349609375,\n",
              " 2254.2646484375,\n",
              " 2266.854736328125,\n",
              " 2270.399658203125,\n",
              " 2271.091796875,\n",
              " 2270.4677734375,\n",
              " 2271.248291015625,\n",
              " 2265.7685546875,\n",
              " 2268.234375,\n",
              " 2275.634521484375,\n",
              " 2268.833984375,\n",
              " 2264.28564453125,\n",
              " 2275.88818359375,\n",
              " 2275.438232421875,\n",
              " 2276.904541015625,\n",
              " 2278.35791015625,\n",
              " 2274.69921875,\n",
              " 2280.602783203125,\n",
              " 2284.568359375,\n",
              " 2286.085693359375,\n",
              " 2285.175537109375,\n",
              " 2290.317626953125,\n",
              " 2288.46484375,\n",
              " 2285.84716796875,\n",
              " 2285.52783203125,\n",
              " 2284.288818359375,\n",
              " 2294.348388671875,\n",
              " 2294.03466796875,\n",
              " 2292.287109375,\n",
              " 2292.64306640625,\n",
              " 2292.052734375,\n",
              " 2295.95751953125,\n",
              " 2298.675537109375,\n",
              " 2305.2021484375,\n",
              " 2304.90380859375,\n",
              " 2306.477783203125,\n",
              " 2307.947265625,\n",
              " 2312.2705078125,\n",
              " 2317.815673828125,\n",
              " 2325.280517578125,\n",
              " 2330.59814453125,\n",
              " 2340.662109375,\n",
              " 2349.0771484375,\n",
              " 2352.0791015625,\n",
              " 2350.79296875,\n",
              " 2352.755615234375,\n",
              " 2354.830810546875,\n",
              " 2360.76611328125,\n",
              " 2366.904052734375,\n",
              " 2371.12890625,\n",
              " 2376.3798828125,\n",
              " 2368.975830078125,\n",
              " 2371.117431640625,\n",
              " 2367.701416015625,\n",
              " 2362.517578125,\n",
              " 2367.220458984375,\n",
              " 2369.442626953125,\n",
              " 2372.921875,\n",
              " 2380.53759765625,\n",
              " 2378.2353515625,\n",
              " 2387.8056640625,\n",
              " 2379.763916015625,\n",
              " 2366.212646484375,\n",
              " 2362.5869140625,\n",
              " 2359.204345703125,\n",
              " 2373.102294921875,\n",
              " 2381.913330078125,\n",
              " 2382.90771484375,\n",
              " 2380.503662109375,\n",
              " 2376.038818359375,\n",
              " 2374.66845703125,\n",
              " 2375.82080078125,\n",
              " 2369.322265625,\n",
              " 2366.776611328125,\n",
              " 2368.914794921875,\n",
              " 2376.88525390625,\n",
              " 2374.5400390625,\n",
              " 2376.648681640625,\n",
              " 2380.109375,\n",
              " 2376.41259765625,\n",
              " 2374.585693359375,\n",
              " 2375.197509765625,\n",
              " 2382.0732421875,\n",
              " 2373.85205078125,\n",
              " 2373.162353515625,\n",
              " 2376.42333984375,\n",
              " 2374.937255859375,\n",
              " 2377.600830078125,\n",
              " 2375.70361328125,\n",
              " 2370.021728515625,\n",
              " 2383.420654296875,\n",
              " 2391.3681640625,\n",
              " 2396.405029296875,\n",
              " 2398.917724609375,\n",
              " 2401.08251953125,\n",
              " 2403.29931640625,\n",
              " 2403.335693359375,\n",
              " 2399.216552734375,\n",
              " 2393.0537109375,\n",
              " 2393.05615234375,\n",
              " 2409.87841796875,\n",
              " 2407.083740234375,\n",
              " 2399.115234375,\n",
              " 2393.02685546875,\n",
              " 2379.867431640625,\n",
              " 2389.814208984375,\n",
              " 2405.599609375,\n",
              " 2399.498779296875,\n",
              " 2398.120849609375,\n",
              " 2391.528564453125,\n",
              " 2437.25390625,\n",
              " 2435.58935546875,\n",
              " 2433.59765625,\n",
              " 2431.328857421875,\n",
              " 2442.813720703125,\n",
              " 2445.904296875,\n",
              " 2444.330810546875,\n",
              " 2442.305419921875,\n",
              " 2443.731201171875,\n",
              " 2450.85546875,\n",
              " 2459.350830078125,\n",
              " 2444.574951171875,\n",
              " 2447.5927734375,\n",
              " 2445.702392578125,\n",
              " 2443.3603515625,\n",
              " 2441.48974609375,\n",
              " 2452.26708984375,\n",
              " 2447.705078125,\n",
              " 2444.704833984375,\n",
              " 2436.96484375,\n",
              " 2431.58251953125,\n",
              " 2442.378662109375,\n",
              " 2439.624755859375,\n",
              " 2454.408447265625,\n",
              " 2449.1083984375,\n",
              " 2448.95166015625,\n",
              " 2443.406982421875,\n",
              " 2448.419921875,\n",
              " 2443.82177734375,\n",
              " 2463.676025390625,\n",
              " 2462.07958984375,\n",
              " 2465.060302734375,\n",
              " 2471.310302734375,\n",
              " 2475.947509765625,\n",
              " 2482.989501953125,\n",
              " 2479.593994140625,\n",
              " 2477.3447265625,\n",
              " 2476.4951171875,\n",
              " 2476.595458984375,\n",
              " 2476.878173828125,\n",
              " 2484.274169921875,\n",
              " 2482.13818359375,\n",
              " 2481.987548828125,\n",
              " 2483.389892578125,\n",
              " 2480.286865234375,\n",
              " 2478.34619140625,\n",
              " 2477.767333984375,\n",
              " 2485.470703125,\n",
              " 2490.85888671875,\n",
              " 2488.16455078125,\n",
              " 2490.906005859375,\n",
              " 2477.69580078125,\n",
              " 2477.500732421875,\n",
              " 2467.657958984375,\n",
              " 2472.7490234375,\n",
              " 2482.40576171875,\n",
              " 2494.008056640625,\n",
              " 2487.35546875,\n",
              " 2478.3359375,\n",
              " 2465.49755859375,\n",
              " 2475.63330078125,\n",
              " 2472.650390625,\n",
              " 2461.971923828125,\n",
              " 2479.397216796875,\n",
              " 2472.939697265625,\n",
              " 2469.155517578125,\n",
              " 2463.9736328125,\n",
              " 2478.389892578125,\n",
              " 2477.24951171875,\n",
              " 2474.335205078125,\n",
              " 2482.72216796875,\n",
              " 2480.117919921875,\n",
              " 2481.401123046875,\n",
              " 2483.732421875,\n",
              " 2485.744873046875,\n",
              " 2489.5166015625,\n",
              " 2485.42236328125,\n",
              " 2503.19580078125,\n",
              " 2502.660888671875,\n",
              " 2507.5947265625,\n",
              " 2507.025146484375,\n",
              " 2525.013427734375,\n",
              " 2531.4326171875,\n",
              " 2525.584716796875,\n",
              " 2525.34716796875,\n",
              " 2515.481201171875,\n",
              " 2522.395263671875,\n",
              " 2529.00244140625,\n",
              " 2538.43701171875,\n",
              " 2562.970947265625,\n",
              " 2554.7705078125,\n",
              " 2560.775146484375,\n",
              " 2563.010986328125,\n",
              " 2560.95654296875,\n",
              " 2564.475341796875,\n",
              " 2568.230224609375,\n",
              " 2570.513427734375,\n",
              " 2569.097412109375,\n",
              " 2576.090576171875,\n",
              " 2576.168212890625,\n",
              " 2577.301513671875,\n",
              " 2577.177978515625,\n",
              " 2572.36083984375,\n",
              " 2568.973876953125,\n",
              " 2582.79443359375,\n",
              " 2577.823974609375,\n",
              " 2575.117919921875,\n",
              " 2578.65673828125,\n",
              " 2577.70458984375,\n",
              " 2578.229736328125,\n",
              " 2592.453857421875,\n",
              " 2600.9853515625,\n",
              " 2609.921875,\n",
              " 2620.602294921875,\n",
              " 2610.08056640625,\n",
              " 2610.448974609375,\n",
              " 2613.9580078125,\n",
              " 2619.466552734375,\n",
              " 2622.568603515625,\n",
              " 2604.2685546875,\n",
              " 2611.191162109375,\n",
              " 2616.25634765625,\n",
              " 2628.784423828125,\n",
              " 2629.63037109375,\n",
              " 2618.54736328125,\n",
              " 2620.122314453125,\n",
              " 2622.52587890625,\n",
              " 2640.261474609375,\n",
              " 2639.490966796875,\n",
              " 2640.66845703125,\n",
              " 2635.05859375,\n",
              " 2647.52783203125,\n",
              " 2652.10009765625,\n",
              " 2654.287109375,\n",
              " 2656.81982421875,\n",
              " 2658.899658203125,\n",
              " 2657.078369140625,\n",
              " 2658.979736328125,\n",
              " 2666.6181640625,\n",
              " 2664.705810546875,\n",
              " 2668.22412109375,\n",
              " 2672.5625,\n",
              " 2679.146240234375,\n",
              " 2688.452880859375,\n",
              " 2691.902099609375,\n",
              " 2696.646728515625,\n",
              " 2705.29443359375,\n",
              " 2716.911865234375,\n",
              " 2724.007568359375,\n",
              " 2712.21533203125,\n",
              " 2715.750732421875,\n",
              " 2713.171142578125,\n",
              " 2716.6630859375,\n",
              " 2728.73681640625,\n",
              " 2738.6357421875,\n",
              " 2752.513427734375,\n",
              " 2748.880859375,\n",
              " 2754.648681640625,\n",
              " 2754.704833984375,\n",
              " 2770.97216796875,\n",
              " 2782.266845703125,\n",
              " 2788.5263671875,\n",
              " 2793.23291015625,\n",
              " 2787.539306640625,\n",
              " 2783.767822265625,\n",
              " 2791.7431640625,\n",
              " 2791.13232421875,\n",
              " 2789.151123046875,\n",
              " 2786.78662109375,\n",
              " 2778.80908203125,\n",
              " 2776.760009765625,\n",
              " 2779.7216796875,\n",
              " 2780.778564453125,\n",
              " 2769.3251953125,\n",
              " 2731.18896484375,\n",
              " 2700.682373046875,\n",
              " 2704.71142578125,\n",
              " 2692.86865234375,\n",
              " 2678.96044921875,\n",
              " 2688.841552734375,\n",
              " 2707.83984375,\n",
              " 2711.914306640625,\n",
              " 2719.354248046875,\n",
              " 2725.020751953125,\n",
              " 2724.96240234375,\n",
              " 2721.1103515625,\n",
              " 2722.810791015625,\n",
              " 2731.302978515625,\n",
              " 2734.67529296875,\n",
              " 2731.57275390625,\n",
              " 2722.193359375,\n",
              " 2709.824951171875,\n",
              " 2714.768798828125,\n",
              " 2723.62158203125,\n",
              " 2727.1201171875,\n",
              " 2733.704833984375,\n",
              " 2744.05029296875,\n",
              " 2753.304931640625,\n",
              " 2761.55615234375,\n",
              " 2760.425537109375,\n",
              " 2748.421875,\n",
              " 2747.421630859375,\n",
              " 2739.713623046875,\n",
              " 2728.3017578125,\n",
              " 2718.8388671875,\n",
              " 2701.01904296875,\n",
              " 2698.7109375,\n",
              " 2680.947021484375,\n",
              " 2669.835205078125,\n",
              " 2663.6083984375,\n",
              " 2660.23876953125,\n",
              " 2651.8857421875,\n",
              " 2647.205810546875,\n",
              " 2655.6669921875,\n",
              " 2662.314697265625,\n",
              " 2666.736572265625,\n",
              " 2665.37646484375,\n",
              " 2659.84228515625,\n",
              " 2669.42529296875,\n",
              " 2674.784423828125,\n",
              " 2683.74267578125,\n",
              " 2688.723388671875,\n",
              " 2689.534423828125,\n",
              " 2691.338623046875,\n",
              " 2694.744873046875,\n",
              " 2690.37353515625,\n",
              " 2690.478515625,\n",
              " 2683.450927734375,\n",
              " 2685.567626953125,\n",
              " 2678.11572265625,\n",
              " 2682.610595703125,\n",
              " 2682.502685546875,\n",
              " 2680.970947265625,\n",
              " 2678.385498046875,\n",
              " 2680.7724609375,\n",
              " 2676.484619140625,\n",
              " 2687.3388671875,\n",
              " 2697.576904296875,\n",
              " 2701.0,\n",
              " 2701.25634765625,\n",
              " 2714.52001953125,\n",
              " 2720.780029296875,\n",
              " 2722.7724609375,\n",
              " 2721.756591796875,\n",
              " 2719.909912109375,\n",
              " 2719.84814453125,\n",
              " 2720.194580078125,\n",
              " 2722.2001953125,\n",
              " 2728.397705078125,\n",
              " 2726.581787109375,\n",
              " 2735.6279296875,\n",
              " 2734.0517578125,\n",
              " 2735.681396484375,\n",
              " 2723.5947265625,\n",
              " 2733.076904296875,\n",
              " 2735.81396484375,\n",
              " 2747.01416015625,\n",
              " 2755.76953125,\n",
              " 2759.924560546875,\n",
              " 2766.1171875,\n",
              " 2768.13232421875,\n",
              " 2767.3427734375,\n",
              " 2765.1328125,\n",
              " 2770.9130859375,\n",
              " 2767.37451171875,\n",
              " 2763.8525390625,\n",
              " 2758.962646484375,\n",
              " 2774.545166015625,\n",
              " 2773.958251953125,\n",
              " 2773.8896484375,\n",
              " 2763.73779296875,\n",
              " 2757.234130859375,\n",
              " 2757.509765625,\n",
              " 2756.830322265625,\n",
              " 2756.89111328125,\n",
              " 2762.872802734375,\n",
              " 2765.251953125,\n",
              " 2772.8251953125,\n",
              " 2773.871826171875,\n",
              " 2782.652099609375,\n",
              " 2793.78076171875,\n",
              " 2798.52099609375,\n",
              " 2808.25927734375,\n",
              " 2795.873046875,\n",
              " 2800.30908203125,\n",
              " 2796.498779296875,\n",
              " 2793.80517578125,\n",
              " 2798.09619140625,\n",
              " 2808.102783203125,\n",
              " 2805.925537109375,\n",
              " 2810.16162109375,\n",
              " 2811.61572265625,\n",
              " 2811.3955078125,\n",
              " 2825.537109375,\n",
              " 2825.482177734375,\n",
              " 2820.859130859375,\n",
              " 2821.850341796875,\n",
              " 2827.9765625,\n",
              " 2835.1103515625,\n",
              " 2841.21142578125,\n",
              " 2845.702880859375,\n",
              " 2845.6240234375,\n",
              " 2844.2421875,\n",
              " 2846.785888671875,\n",
              " 2846.427001953125,\n",
              " 2843.99609375,\n",
              " 2849.690673828125,\n",
              " 2849.888427734375,\n",
              " 2854.572509765625,\n",
              " 2863.759521484375,\n",
              " 2867.8203125,\n",
              " 2876.425537109375,\n",
              " 2882.869140625,\n",
              " 2874.947265625,\n",
              " 2880.88916015625,\n",
              " 2891.04638671875,\n",
              " 2888.809326171875,\n",
              " 2888.559814453125,\n",
              " 2886.940185546875,\n",
              " 2882.29931640625,\n",
              " 2875.27783203125,\n",
              " 2868.08544921875,\n",
              " 2875.892822265625,\n",
              " 2875.4482421875,\n",
              " 2877.51708984375,\n",
              " 2877.376708984375,\n",
              " 2879.84716796875,\n",
              " 2877.935302734375,\n",
              " 2883.2646484375,\n",
              " 2882.28564453125,\n",
              " 2889.5361328125,\n",
              " 2889.985595703125,\n",
              " 2894.82373046875,\n",
              " 2893.747314453125,\n",
              " 2889.446533203125,\n",
              " 2893.1474609375,\n",
              " 2889.163818359375,\n",
              " 2885.59619140625,\n",
              " 2893.28125,\n",
              " 2894.47998046875,\n",
              " 2894.319580078125,\n",
              " 2887.26806640625,\n",
              " 2880.130615234375,\n",
              " 2870.120361328125,\n",
              " 2856.4794921875,\n",
              " 2855.536376953125,\n",
              " 2834.531982421875,\n",
              " 2807.099365234375,\n",
              " 2789.244140625,\n",
              " 2783.359130859375,\n",
              " 2799.498291015625,\n",
              " 2796.95166015625,\n",
              " 2803.741455078125,\n",
              " 2791.75927734375,\n",
              " 2781.097412109375,\n",
              " 2767.52783203125,\n",
              " 2748.07470703125,\n",
              " 2733.021240234375,\n",
              " 2724.974853515625,\n",
              " 2721.309814453125,\n",
              " 2718.71044921875,\n",
              " 2727.24658203125,\n",
              " 2738.33984375,\n",
              " 2735.94970703125,\n",
              " 2742.37646484375,\n",
              " 2755.58544921875,\n",
              " 2761.54541015625,\n",
              " 2762.52490234375,\n",
              " 2754.8984375,\n",
              " 2747.509033203125,\n",
              " 2744.84814453125,\n",
              " 2721.943115234375,\n",
              " 2718.185546875,\n",
              " 2721.8408203125,\n",
              " 2711.61083984375,\n",
              " 2698.197021484375,\n",
              " 2690.851806640625,\n",
              " 2695.970947265625,\n",
              " 2699.00048828125,\n",
              " 2704.0634765625,\n",
              " 2710.158203125,\n",
              " 2716.43408203125,\n",
              " 2733.338623046875,\n",
              " 2727.464111328125,\n",
              " 2720.806640625,\n",
              " 2697.337158203125,\n",
              " 2681.239013671875,\n",
              " 2667.9541015625,\n",
              " 2670.9873046875,\n",
              " 2667.5234375,\n",
              " 2661.55859375,\n",
              " 2648.09814453125,\n",
              " 2631.231689453125,\n",
              " 2605.15625,\n",
              " 2584.171630859375,\n",
              " 2555.4091796875,\n",
              " 2535.36767578125,\n",
              " 2521.41455078125,\n",
              " 2534.342041015625,\n",
              " 2530.9150390625,\n",
              " 2539.904296875,\n",
              " 2542.614501953125,\n",
              " 2544.236328125,\n",
              " 2546.757080078125,\n",
              " 2548.6865234375,\n",
              " 2566.454833984375,\n",
              " 2579.3935546875,\n",
              " 2585.333251953125,\n",
              " 2593.676513671875,\n",
              " 2595.37744140625,\n",
              " 2603.3466796875,\n",
              " 2602.275146484375,\n",
              " 2607.7431640625,\n",
              " 2626.046875,\n",
              " 2636.55419921875,\n",
              " 2649.599853515625,\n",
              " 2657.007080078125,\n",
              " 2648.7431640625,\n",
              " 2649.54736328125,\n",
              " 2654.1162109375,\n",
              " 2656.00830078125,\n",
              " 2663.35498046875,\n",
              " 2672.167724609375,\n",
              " 2695.426513671875,\n",
              " 2712.770751953125,\n",
              " 2719.77001953125,\n",
              " 2717.69482421875,\n",
              " 2715.80810546875,\n",
              " 2709.13720703125,\n",
              " 2721.709228515625,\n",
              " 2732.869384765625,\n",
              " 2744.578125,\n",
              " 2746.8076171875,\n",
              " 2751.1318359375,\n",
              " 2756.7724609375,\n",
              " 2762.622314453125,\n",
              " 2768.52880859375,\n",
              " 2774.386962890625,\n",
              " 2777.571533203125,\n",
              " 2777.288330078125,\n",
              " 2779.540771484375,\n",
              " 2786.569580078125,\n",
              " 2794.134033203125,\n",
              " 2798.200439453125,\n",
              " 2799.84033203125,\n",
              " 2798.241455078125,\n",
              " 2777.395751953125,\n",
              " 2767.763671875,\n",
              " 2780.19677734375,\n",
              " 2782.794189453125,\n",
              " 2783.62060546875,\n",
              " 2807.79931640625,\n",
              " 2812.2607421875,\n",
              " 2813.263427734375,\n",
              " 2823.08935546875,\n",
              " 2816.042236328125,\n",
              " 2813.9013671875,\n",
              " 2821.220458984375,\n",
              " 2813.186767578125,\n",
              " 2807.30126953125,\n",
              " 2826.213623046875,\n",
              " 2826.6376953125,\n",
              " 2830.32666015625,\n",
              " 2833.103271484375,\n",
              " 2838.386962890625,\n",
              " 2852.32421875,\n",
              " 2857.705322265625,\n",
              " 2859.08935546875,\n",
              " 2856.380859375,\n",
              " 2851.382080078125,\n",
              " 2844.929931640625,\n",
              " 2856.4970703125,\n",
              " 2869.88037109375,\n",
              " 2870.294677734375,\n",
              " 2874.984375,\n",
              " 2871.36083984375,\n",
              " 2878.650146484375,\n",
              " 2884.21923828125,\n",
              " 2885.877197265625,\n",
              " 2885.28662109375,\n",
              " 2895.96923828125,\n",
              " 2895.53125,\n",
              " 2899.7919921875,\n",
              " 2892.422607421875,\n",
              " 2883.639892578125,\n",
              " 2894.95947265625,\n",
              " 2910.211669921875,\n",
              " 2908.586669921875,\n",
              " 2895.537841796875,\n",
              " 2887.473388671875,\n",
              " 2880.0234375,\n",
              " 2874.7548828125,\n",
              " 2864.11669921875,\n",
              " 2868.57568359375,\n",
              " 2871.248291015625,\n",
              " 2874.919677734375]"
            ]
          },
          "metadata": {
            "tags": []
          },
          "execution_count": 33
        }
      ]
    },
    {
      "cell_type": "code",
      "metadata": {
        "id": "U7259Eo1m0pV",
        "colab_type": "code",
        "outputId": "3324cf04-f922-4bcc-dc2f-4eccbb2ad610",
        "colab": {
          "base_uri": "https://localhost:8080/",
          "height": 34
        }
      },
      "source": [
        "label_level_matrix[:3]"
      ],
      "execution_count": 34,
      "outputs": [
        {
          "output_type": "execute_result",
          "data": {
            "text/plain": [
              "array([2111.719971, 2097.939941, 2088.659912])"
            ]
          },
          "metadata": {
            "tags": []
          },
          "execution_count": 34
        }
      ]
    },
    {
      "cell_type": "code",
      "metadata": {
        "id": "vGyuS8NRmqKH",
        "colab_type": "code",
        "outputId": "8aed2bbf-c4e1-481c-aae3-ddacda6fdee2",
        "colab": {
          "base_uri": "https://localhost:8080/",
          "height": 357
        }
      },
      "source": [
        "pred_denorm[y_train.shape[0]:y_train.shape[0]+y_test.shape[0]]"
      ],
      "execution_count": 35,
      "outputs": [
        {
          "output_type": "execute_result",
          "data": {
            "text/plain": [
              "array([2877.6455, 2872.9565, 2872.038 , 2868.0781, 2857.1118, 2846.1465,\n",
              "       2844.982 , 2827.8638, 2826.0042, 2819.94  , 2812.1367, 2808.4968,\n",
              "       2818.6465, 2831.552 , 2855.1758, 2859.6536, 2867.7173, 2872.473 ,\n",
              "       2870.6372, 2874.096 , 2882.222 , 2896.5706, 2903.7466, 2898.9866,\n",
              "       2890.5493, 2894.8962, 2903.9592, 2902.1394, 2903.7522, 2904.1523,\n",
              "       2911.9583, 2928.591 , 2935.7542, 2942.9216, 2941.1748, 2934.5715,\n",
              "       2932.3738, 2943.9775, 2950.8271, 2950.7305, 2955.0117, 2952.4502,\n",
              "       2955.245 , 2959.5574, 2967.4988, 2959.8481, 2959.5754, 2964.5356,\n",
              "       2965.0183, 2968.0232, 2966.8074, 2955.81  , 2939.2664, 2924.3315,\n",
              "       2915.92  , 2900.907 , 2904.2327, 2909.49  , 2912.606 , 2909.0913,\n",
              "       2904.6897, 2900.9724, 2894.824 , 2901.943 , 2920.2053, 2918.8723,\n",
              "       2909.5767, 2906.5037, 2896.6592, 2884.4846, 2886.9255, 2896.151 ,\n",
              "       2903.0583, 2907.551 , 2910.3892, 2911.2654, 2922.3796, 2928.6697,\n",
              "       2930.4167, 2930.7712, 2932.9546, 2939.1077, 2942.5618, 2940.5422,\n",
              "       2938.1724, 2940.843 , 2937.3438, 2930.8704, 2927.3726, 2934.9695,\n",
              "       2933.2783, 2941.4734, 2935.655 , 2928.3538, 2927.051 , 2918.882 ,\n",
              "       2906.913 , 2909.3447, 2908.8582, 2903.781 , 2900.0195, 2903.1318,\n",
              "       2905.6936, 2910.6868, 2916.5754, 2920.353 , 2923.2024, 2927.089 ,\n",
              "       2928.6672, 2917.6292, 2916.368 , 2909.673 , 2907.9717],\n",
              "      dtype=float32)"
            ]
          },
          "metadata": {
            "tags": []
          },
          "execution_count": 35
        }
      ]
    },
    {
      "cell_type": "code",
      "metadata": {
        "id": "hqy8rZ-cbeMo",
        "colab_type": "code",
        "outputId": "ea6d08a3-61f6-4386-a027-f78178ee9e47",
        "colab": {
          "base_uri": "https://localhost:8080/",
          "height": 350
        }
      },
      "source": [
        "## show predictions\n",
        "plt.figure(figsize=(15, 5));\n",
        "plt.subplot(2,1,1);\n",
        "\n",
        "plt.plot(np.arange(X_train.shape[0]), df.price[:X_train.shape[0]], color='blue', label='train target')\n",
        "plt.plot(np.arange(y_train.shape[0], y_train.shape[0]+y_test.shape[0]), df.price[y_train.shape[0]:y_train.shape[0]+y_test.shape[0]], color='black', label='test target')\n",
        "\n",
        "plt.plot(np.arange(y_train.shape[0]+y_test.shape[0]), pred_denorm, color='red', label='prediction')\n",
        "\n",
        "plt.title('past and future stock prices')\n",
        "plt.xlabel('time [days]')\n",
        "plt.ylabel('normalized price')\n",
        "plt.legend(loc='best');\n",
        "\n",
        "plt.subplot(2,1,2);\n",
        "\n",
        "plt.plot(np.arange(y_train.shape[0], y_train.shape[0]+y_test.shape[0]), df.price[y_train.shape[0]:y_train.shape[0]+y_test.shape[0]], color='black', label='test target')\n",
        "plt.plot(np.arange(y_train.shape[0], y_train.shape[0]+y_test.shape[0]), pred_denorm[y_train.shape[0]:y_train.shape[0]+y_test.shape[0]], color='green', label='test prediction')\n",
        "\n",
        "plt.title('future stock prices')\n",
        "plt.xlabel('time [days]')\n",
        "plt.ylabel('normalized price')\n",
        "plt.legend(loc='best');\n",
        "\n"
      ],
      "execution_count": 36,
      "outputs": [
        {
          "output_type": "display_data",
          "data": {
            "image/png": "[encoded data removed]",
            "text/plain": [
              "<Figure size 1080x360 with 2 Axes>"
            ]
          },
          "metadata": {
            "tags": []
          }
        }
      ]
    },
    {
      "cell_type": "code",
      "metadata": {
        "id": "NAWSp7tD4CCl",
        "colab_type": "code",
        "outputId": "75fcf449-fdac-45c0-88ba-10e41a833432",
        "colab": {
          "base_uri": "https://localhost:8080/",
          "height": 34
        }
      },
      "source": [
        "window = 5\n",
        "se1 = np.full((window,), pred_denorm[0])\n",
        "pred_denorm_fill = np.concatenate((se1, pred_denorm), axis=None) \n",
        "len(pred_denorm_fill)"
      ],
      "execution_count": 37,
      "outputs": [
        {
          "output_type": "execute_result",
          "data": {
            "text/plain": [
              "755"
            ]
          },
          "metadata": {
            "tags": []
          },
          "execution_count": 37
        }
      ]
    },
    {
      "cell_type": "code",
      "metadata": {
        "id": "A8hYMSpN2HNi",
        "colab_type": "code",
        "colab": {}
      },
      "source": [
        "df_plot = df.copy()\n",
        "df_plot['Predicted Price'] = pred_denorm_fill"
      ],
      "execution_count": 0,
      "outputs": []
    },
    {
      "cell_type": "code",
      "metadata": {
        "id": "Ed5SLWvQytjB",
        "colab_type": "code",
        "outputId": "f7680d77-377e-4b67-d2a9-83806ea1a997",
        "colab": {
          "base_uri": "https://localhost:8080/",
          "height": 628
        }
      },
      "source": [
        "def plot_technical_indicators(dataset, pred_price):\n",
        "    plt.figure(figsize=(16, 10), dpi=100)\n",
        "    \n",
        "#    x_ = range(3, dataset.shape[0])\n",
        "    x_ =list(dataset.index[window:])\n",
        "    \n",
        "    # Plot first subplot\n",
        "#    plt.subplot(2, 1, 1)\n",
        "    plt.figure(figsize=(14, 7), dpi=100)\n",
        "    plt.plot(dataset['price'][window:],label='Closing Price', color='b')\n",
        "    plt.plot(x_, pred_price ,label='Predicted Price', color='r',linestyle='--')\n",
        "    plt.title('Comparision of true price and predicted price')\n",
        "    plt.ylabel('USD')\n",
        "    plt.legend()\n",
        "\n",
        "    # # Plot second subplot\n",
        "    # plt.subplot(2, 1, 2)\n",
        "    # plt.title('MACD')\n",
        "    # plt.plot(dataset['MACD'],label='MACD', linestyle='-.')\n",
        "    # plt.hlines(15, xmacd_, shape_0, colors='g', linestyles='--')\n",
        "    # plt.hlines(-15, xmacd_, shape_0, colors='g', linestyles='--')\n",
        "    # plt.plot(dataset['momentum'],label='Momentum', color='b',linestyle='-')\n",
        "\n",
        "    plt.legend()\n",
        "    plt.show()\n",
        "\n",
        "plot_technical_indicators(df, pred_denorm)"
      ],
      "execution_count": 39,
      "outputs": [
        {
          "output_type": "display_data",
          "data": {
            "text/plain": [
              "<Figure size 1600x1000 with 0 Axes>"
            ]
          },
          "metadata": {
            "tags": []
          }
        },
        {
          "output_type": "display_data",
          "data": {
            "image/png": "[encoded data removed]",
            "text/plain": [
              "<Figure size 1400x700 with 1 Axes>"
            ]
          },
          "metadata": {
            "tags": []
          }
        }
      ]
    },
    {
      "cell_type": "markdown",
      "metadata": {
        "id": "CXlV4FBwu5bd",
        "colab_type": "text"
      },
      "source": [
        "## Funny thing-automatic stock exchange stragedy"
      ]
    },
    {
      "cell_type": "markdown",
      "metadata": {
        "id": "cHixzRQ4vHqp",
        "colab_type": "text"
      },
      "source": [
        "\n",
        "\n",
        "*   Start with $10000\n",
        "*   days = 110 (length of test set)\n",
        "*   buy if rise, sell if fall\n",
        "*   increase mean and decrease mean, if exceed mean buy or sell 5%, otherwise 2.5%\n",
        "*   if capital or stock is empty, wait for the next action.\n",
        "\n"
      ]
    },
    {
      "cell_type": "code",
      "metadata": {
        "id": "k91PK1TsStL5",
        "colab_type": "code",
        "outputId": "d6133d0e-2473-454a-d04b-1ee9749f92c7",
        "colab": {
          "base_uri": "https://localhost:8080/",
          "height": 330
        }
      },
      "source": [
        "class Auto_exchange():\n",
        "  def __init__(self):\n",
        "    self.capital = 10000\n",
        "    self.remain = 10000\n",
        "    self.stock = 0\n",
        "    self.avg = []\n",
        "    self.small_rate = 0.025\n",
        "    self.large_rate = 2 * self.small_rate\n",
        "  def assestment(self):\n",
        "    return print(self.remain + self.stock * self.true_value[-1] - self.capital)\n",
        "  def trade(self, y_test, y_pred):\n",
        "    self.days = len(y_pred)\n",
        "    self.true_value = y_test\n",
        "    self.pred_value = y_pred\n",
        "    for day in range(1, self.days):\n",
        "      self.diff = self.pred_value[day] - self.pred_value[day-1]\n",
        "      self.avg.append(abs(self.diff))\n",
        "      self.threshold = statistics.mean(self.avg)\n",
        "      if self.diff < 0:\n",
        "        self.remain, self.stock = self.sell(self.true_value[day], day)\n",
        "      if self.diff >0:\n",
        "        self.remain, self.stock = self.buy(self.true_value[day])\n",
        "      if self.diff == 0:\n",
        "        continue\n",
        "      f\"Today is the {day}th day, my remain is {self.remain}, my stock is {self.stock}, it worth ${self.stock * self.true_value[day]}.\"\n",
        "    print(\"Complete trade\")\n",
        "  def sell(self, true_value, day):\n",
        "    if self.stock > 0:\n",
        "      if self.diff >= self.threshold:\n",
        "        self.remain += self.stock * self.large_rate * true_value\n",
        "        self.stock = self.stock * (1-self.large_rate)\n",
        "      else:\n",
        "        self.remain += self.stock * self.small_rate * true_value\n",
        "        self.stock = self.stock + (1-self.small_rate)\n",
        "    else:\n",
        "      print(\"Today is day {}, I don't have enough stock\".format(day))\n",
        "    return self.remain, self.stock\n",
        "  def buy(self, true_value):\n",
        "    if self.remain >= true_value * self.large_rate:\n",
        "      if self.diff >= self.threshold:\n",
        "        self.stock += self.remain * self.large_rate / true_value\n",
        "        self.remain = self.remain * (1-self.large_rate)\n",
        "      else:\n",
        "        self.stock += self.remain * self.small_rate / true_value\n",
        "        self.remain = self.remain * (1-self.small_rate)\n",
        "    else:\n",
        "      print(\"I am out of money\")\n",
        "    return self.remain, self.stock\n",
        "      \n",
        "\n",
        "\n",
        "true_price = df.price[window + y_train.shape[0]:window + y_train.shape[0]+y_test.shape[0]]/100\n",
        "pred_price = pred_denorm[y_train.shape[0]:y_train.shape[0]+y_test.shape[0]]/100\n",
        "auto = Auto_exchange()\n",
        "auto.trade(true_price, pred_price)\n",
        "auto.assestment()"
      ],
      "execution_count": 0,
      "outputs": [
        {
          "output_type": "stream",
          "text": [
            "Today is day 1, I don't have enough stock\n",
            "Today is day 2, I don't have enough stock\n",
            "Today is day 3, I don't have enough stock\n",
            "Today is day 4, I don't have enough stock\n",
            "Today is day 5, I don't have enough stock\n",
            "Today is day 6, I don't have enough stock\n",
            "Today is day 7, I don't have enough stock\n",
            "Today is day 8, I don't have enough stock\n",
            "Today is day 9, I don't have enough stock\n",
            "Today is day 10, I don't have enough stock\n",
            "Today is day 11, I don't have enough stock\n",
            "Today is day 12, I don't have enough stock\n",
            "Today is day 13, I don't have enough stock\n",
            "Today is day 14, I don't have enough stock\n",
            "Today is day 15, I don't have enough stock\n",
            "Today is day 16, I don't have enough stock\n",
            "Complete trade\n",
            "11636.382396990892\n"
          ],
          "name": "stdout"
        }
      ]
    }
  ]
}